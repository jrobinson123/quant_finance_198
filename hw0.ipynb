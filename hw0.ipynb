{
 "cells": [
  {
   "cell_type": "markdown",
   "id": "bab06932",
   "metadata": {},
   "source": [
    "# Stat 198: Introduction to Quantitative Finance DeCal\n",
    "\n",
    "Stat 198 is hosted by [Traders at Berkeley](https://traders.berkeley.edu/). \n",
    "\n",
    "Course Website: [https://traders.berkeley.edu/education](https://traders.berkeley.edu/education.html)"
   ]
  },
  {
   "cell_type": "markdown",
   "id": "edb76468",
   "metadata": {},
   "source": [
    "# Homework #0"
   ]
  },
  {
   "cell_type": "markdown",
   "id": "33465889",
   "metadata": {},
   "source": [
    "The first homework is to make sure you are up to speed with the tools necessary to complete future homeworks/project.\n",
    "\n",
    "More information on the necessary tools is available [here](https://docs.google.com/document/d/15RrRBhsXgoGdq_egw0w1DwQrXmHMmzAFdPSdA4bBuj0/edit).\n",
    "\n",
    "You are free to use any IDE of your choice, but our homework will primarily be in a Jupyter Notebook format.\n",
    "\n",
    "**Learning Objectives:**\n",
    "\n",
    "- Package Downloads\n",
    "- Pandas and NumPy Review\n",
    "- Data Visualization Review\n",
    "\n",
    "**Helpful References**\n",
    "- The Data 100 reference sheet (mainly first page): https://ds100.org/su22/resources/assets/exams/su22/su22_final_reference_sheet.pdf\n",
    "- Pandas documentation: https://pandas.pydata.org/docs/\n",
    "- NumPy documentation: https://numpy.org/doc/\n",
    "- Matplotlib documentation: https://matplotlib.org/stable/index.html"
   ]
  },
  {
   "cell_type": "markdown",
   "id": "26c2f2c0",
   "metadata": {},
   "source": [
    "##  Package Downloads\n",
    "This is to check if you have all the necessary packages installed. Please install numpy, pandas, scikit-learn, statsmodels, and matplotlib. Run all of the commands below to make sure your packages are installed."
   ]
  },
  {
   "cell_type": "code",
   "execution_count": null,
   "id": "c9345d70",
   "metadata": {},
   "outputs": [],
   "source": []
  },
  {
   "cell_type": "code",
   "execution_count": 117,
   "id": "2f55a3d1",
   "metadata": {},
   "outputs": [
    {
     "name": "stdout",
     "output_type": "stream",
     "text": [
      "Name: numpy\r\n",
      "Version: 1.21.5\r\n",
      "Summary: NumPy is the fundamental package for array computing with Python.\r\n",
      "Home-page: https://www.numpy.org\r\n",
      "Author: Travis E. Oliphant et al.\r\n",
      "Author-email: \r\n",
      "License: BSD\r\n",
      "Location: /Users/jonahrobinson/opt/anaconda3/lib/python3.9/site-packages\r\n",
      "Requires: \r\n",
      "Required-by: astropy, bkcharts, bokeh, Bottleneck, contourpy, daal4py, datascience, datashader, datashape, folium, gensim, h5py, holoviews, hvplot, imagecodecs, imageio, matplotlib, mkl-fft, mkl-random, Nasdaq-Data-Link, numba, numexpr, pandas, patsy, pyerfa, PyWavelets, scikit-image, scikit-learn, scipy, seaborn, statsmodels, tables, tifffile, xarray, yfinance\r\n"
     ]
    }
   ],
   "source": [
    "!pip show numpy"
   ]
  },
  {
   "cell_type": "code",
   "execution_count": 118,
   "id": "c5d3c108",
   "metadata": {},
   "outputs": [
    {
     "name": "stdout",
     "output_type": "stream",
     "text": [
      "Name: pandas\r\n",
      "Version: 1.4.4\r\n",
      "Summary: Powerful data structures for data analysis, time series, and statistics\r\n",
      "Home-page: https://pandas.pydata.org\r\n",
      "Author: The Pandas Development Team\r\n",
      "Author-email: pandas-dev@python.org\r\n",
      "License: BSD-3-Clause\r\n",
      "Location: /Users/jonahrobinson/opt/anaconda3/lib/python3.9/site-packages\r\n",
      "Requires: numpy, python-dateutil, pytz\r\n",
      "Required-by: datascience, datashader, holoviews, hvplot, Nasdaq-Data-Link, neptune-client, seaborn, statsmodels, xarray, yfinance\r\n"
     ]
    }
   ],
   "source": [
    "!pip show pandas"
   ]
  },
  {
   "cell_type": "code",
   "execution_count": 119,
   "id": "8f2928ea",
   "metadata": {},
   "outputs": [
    {
     "name": "stdout",
     "output_type": "stream",
     "text": [
      "Name: scikit-learn\r\n",
      "Version: 1.0.2\r\n",
      "Summary: A set of python modules for machine learning and data mining\r\n",
      "Home-page: http://scikit-learn.org\r\n",
      "Author: \r\n",
      "Author-email: \r\n",
      "License: new BSD\r\n",
      "Location: /Users/jonahrobinson/opt/anaconda3/lib/python3.9/site-packages\r\n",
      "Requires: joblib, numpy, scipy, threadpoolctl\r\n",
      "Required-by: scikit-learn-intelex\r\n"
     ]
    }
   ],
   "source": [
    "!pip show scikit-learn"
   ]
  },
  {
   "cell_type": "code",
   "execution_count": 120,
   "id": "ea34dccd",
   "metadata": {},
   "outputs": [
    {
     "name": "stdout",
     "output_type": "stream",
     "text": [
      "Name: statsmodels\r\n",
      "Version: 0.13.2\r\n",
      "Summary: Statistical computations and models for Python\r\n",
      "Home-page: https://www.statsmodels.org/\r\n",
      "Author: \r\n",
      "Author-email: \r\n",
      "License: BSD License\r\n",
      "Location: /Users/jonahrobinson/opt/anaconda3/lib/python3.9/site-packages\r\n",
      "Requires: numpy, packaging, pandas, patsy, scipy\r\n",
      "Required-by: \r\n"
     ]
    }
   ],
   "source": [
    "!pip show statsmodels"
   ]
  },
  {
   "cell_type": "code",
   "execution_count": 121,
   "id": "2b7a8c72",
   "metadata": {},
   "outputs": [
    {
     "name": "stdout",
     "output_type": "stream",
     "text": [
      "Name: matplotlib\r\n",
      "Version: 3.6.2\r\n",
      "Summary: Python plotting package\r\n",
      "Home-page: https://matplotlib.org\r\n",
      "Author: John D. Hunter, Michael Droettboom\r\n",
      "Author-email: matplotlib-users@python.org\r\n",
      "License: PSF\r\n",
      "Location: /Users/jonahrobinson/opt/anaconda3/lib/python3.9/site-packages\r\n",
      "Requires: contourpy, cycler, fonttools, kiwisolver, numpy, packaging, pillow, pyparsing, python-dateutil\r\n",
      "Required-by: datascience, seaborn\r\n"
     ]
    }
   ],
   "source": [
    "!pip show matplotlib"
   ]
  },
  {
   "cell_type": "code",
   "execution_count": null,
   "id": "a2fb8d5f",
   "metadata": {},
   "outputs": [],
   "source": []
  },
  {
   "cell_type": "markdown",
   "id": "f79bb344",
   "metadata": {},
   "source": [
    "### Questions\n",
    "These questions are for you to learn about some basics of the above packages. If you aren't familiar with them, search them up!\n",
    "\n",
    "#### 1.1 What is numpy used for?\n",
    "Operating on multi-dimensional arrays and matrices and peforming mathematical functions on them. It is pretty much the go-to library for doing linear algebra in Python. It also provides very easy and efficient ways of for instance, performing vectorized operations on arrays. \n",
    "\n",
    "#### 1.2 What is pandas used for?\n",
    "Pandas provides a powerful way to manipulate csv style tables called DataFrames. This type of data structure is very useful for modeling tables of records or time-series. \n",
    "\n",
    "#### 1.3 What is scikit-learn used for?\n",
    "A wide range of machine learning techniques like classification, regression, and SVMs, it's also designed to be used with Numpy. \n",
    "\n",
    "#### 1.4 What is statsmodels used for?\n",
    "statsmodels is meant to support creating and using statistical models in Python. \n",
    "\n",
    "#### 1.5 What is matplotlib used for?\n",
    "matplotlib is used to create plots and data visualizations like line plots, histograms, scatter plots, as well as more advanced kinds of plots. "
   ]
  },
  {
   "cell_type": "markdown",
   "id": "cbc0f57f",
   "metadata": {},
   "source": [
    "## NumPy Review\n",
    "Numpy is used for large, multi-dimensional arrays and matrices. They also support a large collection of high-level mathematical functions that can be used on these (including Fourier transforms, if you learned about it in CS170!).\n",
    "\n",
    "**First, import the package.**"
   ]
  },
  {
   "cell_type": "code",
   "execution_count": 122,
   "id": "bf042d7f",
   "metadata": {},
   "outputs": [],
   "source": [
    "import numpy as np"
   ]
  },
  {
   "cell_type": "markdown",
   "id": "41ceac61",
   "metadata": {},
   "source": [
    "There are a lot of useful functions and ways to use NumPy but we'll only be covering the very basic few. You can explore more [here](https://numpy.org/doc/stable/user/absolute_beginners.html)!\n",
    "\n",
    "First, we will just cover the basics of NumPy."
   ]
  },
  {
   "cell_type": "code",
   "execution_count": 123,
   "id": "30e1e8e3",
   "metadata": {},
   "outputs": [
    {
     "data": {
      "text/plain": [
       "array([ 2,  5,  8, 11, 14, 17])"
      ]
     },
     "execution_count": 123,
     "metadata": {},
     "output_type": "execute_result"
    }
   ],
   "source": [
    "# Create an array with a range where the parameters are first number, last number, and step size.\n",
    "np.arange(2, 20, 3)"
   ]
  },
  {
   "cell_type": "code",
   "execution_count": 124,
   "id": "c727ca8c",
   "metadata": {},
   "outputs": [
    {
     "data": {
      "text/plain": [
       "array([0., 0., 0., 0., 0.])"
      ]
     },
     "execution_count": 124,
     "metadata": {},
     "output_type": "execute_result"
    }
   ],
   "source": [
    "# Create an array of length 5 filled with 0s\n",
    "np.zeros(5)"
   ]
  },
  {
   "cell_type": "code",
   "execution_count": 125,
   "id": "44b7f1ec",
   "metadata": {},
   "outputs": [
    {
     "data": {
      "text/plain": [
       "array([1, 2, 3, 4])"
      ]
     },
     "execution_count": 125,
     "metadata": {},
     "output_type": "execute_result"
    }
   ],
   "source": [
    "# Create a numpy array\n",
    "np.array([1, 2, 3, 4])"
   ]
  },
  {
   "cell_type": "code",
   "execution_count": 126,
   "id": "fd9a1581",
   "metadata": {},
   "outputs": [
    {
     "data": {
      "text/plain": [
       "array([1, 2, 3, 4, 5, 6, 7])"
      ]
     },
     "execution_count": 126,
     "metadata": {},
     "output_type": "execute_result"
    }
   ],
   "source": [
    "# Sort number arrays in ascending order\n",
    "np.sort([4, 3, 1, 2, 5, 6, 7])"
   ]
  },
  {
   "cell_type": "code",
   "execution_count": 127,
   "id": "08b28e61",
   "metadata": {},
   "outputs": [
    {
     "data": {
      "text/plain": [
       "array([[1, 2],\n",
       "       [3, 4],\n",
       "       [5, 6]])"
      ]
     },
     "execution_count": 127,
     "metadata": {},
     "output_type": "execute_result"
    }
   ],
   "source": [
    "# Concatenate two arrays\n",
    "np.concatenate(([1, 2, 3, 4], [5, 6, 7, 8]))\n",
    "np.concatenate(([[1, 2], [3, 4]], [[5, 6]]), axis = 0)"
   ]
  },
  {
   "cell_type": "code",
   "execution_count": 128,
   "id": "5f1591e5",
   "metadata": {},
   "outputs": [
    {
     "name": "stdout",
     "output_type": "stream",
     "text": [
      "Dimension of the array: 2\n",
      "Total number of elements in the array: 6\n",
      "Shape of the array: (3, 2)\n"
     ]
    }
   ],
   "source": [
    "# Finding dimensions of the array\n",
    "array = np.concatenate(([[1, 2], [3, 4]], [[5, 6]]), axis = 0)\n",
    "print(f\"Dimension of the array: {array.ndim}\")\n",
    "print(f\"Total number of elements in the array: {array.size}\")\n",
    "print(f\"Shape of the array: {array.shape}\")"
   ]
  },
  {
   "cell_type": "code",
   "execution_count": 129,
   "id": "6ba8cd70",
   "metadata": {},
   "outputs": [
    {
     "data": {
      "text/plain": [
       "array([[0, 1, 2, 3, 4],\n",
       "       [5, 6, 7, 8, 9]])"
      ]
     },
     "execution_count": 129,
     "metadata": {},
     "output_type": "execute_result"
    }
   ],
   "source": [
    "# Re-shaping Array\n",
    "a = np.arange(10)\n",
    "b = a.reshape(2, 5)\n",
    "b"
   ]
  },
  {
   "cell_type": "code",
   "execution_count": 130,
   "id": "b3072296",
   "metadata": {},
   "outputs": [
    {
     "name": "stdout",
     "output_type": "stream",
     "text": [
      "Should print 2: 2\n",
      "Should print array([2, 3, 4]): [2 3 4]\n"
     ]
    }
   ],
   "source": [
    "# Indexing works same as a regular array\n",
    "a = np.array([1, 2, 3, 4])\n",
    "print(f\"Should print 2: {a[1]}\")\n",
    "print(f\"Should print array([2, 3, 4]): {a[1:]}\")"
   ]
  },
  {
   "cell_type": "markdown",
   "id": "a72db569",
   "metadata": {},
   "source": [
    "**Q1. Use a NumPy function other than `np.array` to create an array of length 7 filled with 1s.**"
   ]
  },
  {
   "cell_type": "code",
   "execution_count": 131,
   "id": "8f37c50d",
   "metadata": {},
   "outputs": [
    {
     "data": {
      "text/plain": [
       "array([1., 1., 1., 1., 1., 1., 1.])"
      ]
     },
     "execution_count": 131,
     "metadata": {},
     "output_type": "execute_result"
    }
   ],
   "source": [
    "np.ones(7)"
   ]
  },
  {
   "cell_type": "markdown",
   "id": "1a74befa",
   "metadata": {},
   "source": [
    "**Q2. Use a NumPy function other than `np.arange` to create an array of length 10 with values that are spaced linearly from 12 to 202.**"
   ]
  },
  {
   "cell_type": "code",
   "execution_count": 132,
   "id": "becb3c76",
   "metadata": {},
   "outputs": [
    {
     "data": {
      "text/plain": [
       "array([ 12.        ,  33.11111111,  54.22222222,  75.33333333,\n",
       "        96.44444444, 117.55555556, 138.66666667, 159.77777778,\n",
       "       180.88888889, 202.        ])"
      ]
     },
     "execution_count": 132,
     "metadata": {},
     "output_type": "execute_result"
    }
   ],
   "source": [
    "np.linspace(12, 202, 10)"
   ]
  },
  {
   "cell_type": "markdown",
   "id": "849d9631",
   "metadata": {},
   "source": [
    "**Q3. Use `np.sort` to sort the number array below in descending order**"
   ]
  },
  {
   "cell_type": "code",
   "execution_count": 133,
   "id": "657ea13a",
   "metadata": {},
   "outputs": [
    {
     "data": {
      "text/plain": [
       "array([8, 7, 6, 5, 4, 3, 2, 1])"
      ]
     },
     "execution_count": 133,
     "metadata": {},
     "output_type": "execute_result"
    }
   ],
   "source": [
    "array = [5, 4, 6, 2, 3, 8, 1, 7]\n",
    "np.flip(np.sort(array))"
   ]
  },
  {
   "cell_type": "markdown",
   "id": "69a86c7b",
   "metadata": {},
   "source": [
    "**Q4. Use boolean indexing to select numbers that are greater than 3 in the given array.**"
   ]
  },
  {
   "cell_type": "code",
   "execution_count": 134,
   "id": "a97c1c9d",
   "metadata": {},
   "outputs": [
    {
     "data": {
      "text/plain": [
       "array([ 4,  5,  6,  7,  8,  7,  8,  9, 10])"
      ]
     },
     "execution_count": 134,
     "metadata": {},
     "output_type": "execute_result"
    }
   ],
   "source": [
    "array = np.array([[1, 2, 3, 4], [5, 6, 7, 8], [7, 8, 9, 10]], dtype=int)\n",
    "array[array > 3]"
   ]
  },
  {
   "cell_type": "markdown",
   "id": "c2b7634e",
   "metadata": {},
   "source": [
    "**Q5. Use a NumPy function to create an array of length 5 with random numbers between 0 and 1.**"
   ]
  },
  {
   "cell_type": "code",
   "execution_count": 135,
   "id": "e2177557",
   "metadata": {},
   "outputs": [
    {
     "data": {
      "text/plain": [
       "array([0.24242459, 0.82976195, 0.14168499, 0.1573257 , 0.58197469])"
      ]
     },
     "execution_count": 135,
     "metadata": {},
     "output_type": "execute_result"
    }
   ],
   "source": [
    "np.random.random(5)"
   ]
  },
  {
   "cell_type": "markdown",
   "id": "1392cae5",
   "metadata": {},
   "source": [
    "In the following section, we will take a look at NumPy operations."
   ]
  },
  {
   "cell_type": "code",
   "execution_count": 136,
   "id": "4cd55b48",
   "metadata": {},
   "outputs": [
    {
     "name": "stdout",
     "output_type": "stream",
     "text": [
      "Add arrays a and b: [2. 3. 4.]\n",
      "Multiply arrays a and a: [1 4 9]\n"
     ]
    }
   ],
   "source": [
    "# Add 2 equal size arrays\n",
    "a = np.array([1, 2, 3])\n",
    "b = np.ones(3)\n",
    "print(f\"Add arrays a and b: {a + b}\")\n",
    "print(f\"Multiply arrays a and a: {a * a}\")"
   ]
  },
  {
   "cell_type": "code",
   "execution_count": 137,
   "id": "b88541fb",
   "metadata": {},
   "outputs": [
    {
     "name": "stdout",
     "output_type": "stream",
     "text": [
      "Multiply 2 to array a: [2 4 6]\n"
     ]
    }
   ],
   "source": [
    "# Multiplying a constant to an array performs action on all the elements\n",
    "print(f\"Multiply 2 to array a: {2*a}\")"
   ]
  },
  {
   "cell_type": "code",
   "execution_count": 138,
   "id": "1787b5b9",
   "metadata": {},
   "outputs": [
    {
     "name": "stdout",
     "output_type": "stream",
     "text": [
      "Max of array a: 3\n",
      "Min of array a: 1\n",
      "Sum of array a: 6\n"
     ]
    }
   ],
   "source": [
    "# More array operations\n",
    "print(f\"Max of array a: {a.max()}\")\n",
    "print(f\"Min of array a: {a.min()}\")\n",
    "print(f\"Sum of array a: {a.sum()}\")"
   ]
  },
  {
   "cell_type": "code",
   "execution_count": 139,
   "id": "e3320e72",
   "metadata": {},
   "outputs": [
    {
     "name": "stdout",
     "output_type": "stream",
     "text": [
      "Unique values in array c: [1 2 3 4 5]\n"
     ]
    }
   ],
   "source": [
    "# Unique values in array\n",
    "c = np.array([1, 2, 1, 2, 4, 5, 3])\n",
    "print(f\"Unique values in array c: {np.unique(c)}\")"
   ]
  },
  {
   "cell_type": "markdown",
   "id": "5bb16fd1",
   "metadata": {},
   "source": [
    "**Q1. What is the resulting array of a - b?**"
   ]
  },
  {
   "cell_type": "code",
   "execution_count": 140,
   "id": "6edaac10",
   "metadata": {},
   "outputs": [
    {
     "data": {
      "text/plain": [
       "array([0., 1., 2.])"
      ]
     },
     "execution_count": 140,
     "metadata": {},
     "output_type": "execute_result"
    }
   ],
   "source": [
    "a - b"
   ]
  },
  {
   "cell_type": "markdown",
   "id": "3d94df62",
   "metadata": {},
   "source": [
    "**Q2. What is the value of the sum of the minimum elements of array a and b?**"
   ]
  },
  {
   "cell_type": "code",
   "execution_count": 141,
   "id": "d2e2e8e5",
   "metadata": {},
   "outputs": [
    {
     "data": {
      "text/plain": [
       "2.0"
      ]
     },
     "execution_count": 141,
     "metadata": {},
     "output_type": "execute_result"
    }
   ],
   "source": [
    "a.min() + b.min()"
   ]
  },
  {
   "cell_type": "markdown",
   "id": "def670ac",
   "metadata": {},
   "source": [
    "**Q3. What is the value of the maximum element of the array a + b?**"
   ]
  },
  {
   "cell_type": "code",
   "execution_count": 142,
   "id": "e6795498",
   "metadata": {},
   "outputs": [
    {
     "data": {
      "text/plain": [
       "4.0"
      ]
     },
     "execution_count": 142,
     "metadata": {},
     "output_type": "execute_result"
    }
   ],
   "source": [
    "a.max() + b.max()"
   ]
  },
  {
   "cell_type": "markdown",
   "id": "b5607e17",
   "metadata": {},
   "source": [
    "**Q4. How many unique values are in the array below?**"
   ]
  },
  {
   "cell_type": "code",
   "execution_count": 143,
   "id": "c7c09240",
   "metadata": {},
   "outputs": [
    {
     "data": {
      "text/plain": [
       "96"
      ]
     },
     "execution_count": 143,
     "metadata": {},
     "output_type": "execute_result"
    }
   ],
   "source": [
    "arr = np.round(np.random.random_sample(250), 2)\n",
    "len(np.unique(arr))"
   ]
  },
  {
   "cell_type": "markdown",
   "id": "3cefc2a2",
   "metadata": {},
   "source": [
    "## Pandas Review\n",
    "In this section, you will learn the basics of pandas and numpy. Hopefully you will have a good understanding of how to use these packages by the end!\n",
    "\n",
    "### DataFrames\n",
    "DataFrames are basically a table where each column has a specific data type and there's also an index over the columns and rows (multi-index is possible!).\n",
    "\n",
    "In the future, you will use `pd.read_csv` to read in data.\n",
    "\n",
    "Here, we will just learn how to create a basic DataFrame.\n",
    "\n",
    "#### First, let's import the necessary packages."
   ]
  },
  {
   "cell_type": "code",
   "execution_count": 144,
   "id": "2e86ce9d",
   "metadata": {},
   "outputs": [],
   "source": [
    "import pandas as pd"
   ]
  },
  {
   "cell_type": "markdown",
   "id": "547c49be",
   "metadata": {},
   "source": [
    "#### Creating DataFrame by Columns"
   ]
  },
  {
   "cell_type": "code",
   "execution_count": 145,
   "id": "96da6539",
   "metadata": {},
   "outputs": [
    {
     "data": {
      "text/html": [
       "<div>\n",
       "<style scoped>\n",
       "    .dataframe tbody tr th:only-of-type {\n",
       "        vertical-align: middle;\n",
       "    }\n",
       "\n",
       "    .dataframe tbody tr th {\n",
       "        vertical-align: top;\n",
       "    }\n",
       "\n",
       "    .dataframe thead th {\n",
       "        text-align: right;\n",
       "    }\n",
       "</style>\n",
       "<table border=\"1\" class=\"dataframe\">\n",
       "  <thead>\n",
       "    <tr style=\"text-align: right;\">\n",
       "      <th></th>\n",
       "      <th>0</th>\n",
       "      <th>1</th>\n",
       "      <th>2</th>\n",
       "    </tr>\n",
       "  </thead>\n",
       "  <tbody>\n",
       "    <tr>\n",
       "      <th>0</th>\n",
       "      <td>Alex</td>\n",
       "      <td>1</td>\n",
       "      <td>CS</td>\n",
       "    </tr>\n",
       "    <tr>\n",
       "      <th>1</th>\n",
       "      <td>Ben</td>\n",
       "      <td>1</td>\n",
       "      <td>Math</td>\n",
       "    </tr>\n",
       "    <tr>\n",
       "      <th>2</th>\n",
       "      <td>Charlie</td>\n",
       "      <td>2</td>\n",
       "      <td>CS</td>\n",
       "    </tr>\n",
       "    <tr>\n",
       "      <th>3</th>\n",
       "      <td>David</td>\n",
       "      <td>3</td>\n",
       "      <td>Stats</td>\n",
       "    </tr>\n",
       "  </tbody>\n",
       "</table>\n",
       "</div>"
      ],
      "text/plain": [
       "         0  1      2\n",
       "0     Alex  1     CS\n",
       "1      Ben  1   Math\n",
       "2  Charlie  2     CS\n",
       "3    David  3  Stats"
      ]
     },
     "execution_count": 145,
     "metadata": {},
     "output_type": "execute_result"
    }
   ],
   "source": [
    "example_df = pd.DataFrame(\n",
    "    [ (\"Alex\", 1, \"CS\"), (\"Ben\", 1, \"Math\"), (\"Charlie\", 2, \"CS\"), (\"David\", 3, \"Stats\"),\n",
    "    ]\n",
    ")\n",
    "example_df"
   ]
  },
  {
   "cell_type": "markdown",
   "id": "c2f9073b",
   "metadata": {},
   "source": [
    "#### Creating DataFrame by Rows"
   ]
  },
  {
   "cell_type": "code",
   "execution_count": 146,
   "id": "06e298aa",
   "metadata": {},
   "outputs": [
    {
     "data": {
      "text/html": [
       "<div>\n",
       "<style scoped>\n",
       "    .dataframe tbody tr th:only-of-type {\n",
       "        vertical-align: middle;\n",
       "    }\n",
       "\n",
       "    .dataframe tbody tr th {\n",
       "        vertical-align: top;\n",
       "    }\n",
       "\n",
       "    .dataframe thead th {\n",
       "        text-align: right;\n",
       "    }\n",
       "</style>\n",
       "<table border=\"1\" class=\"dataframe\">\n",
       "  <thead>\n",
       "    <tr style=\"text-align: right;\">\n",
       "      <th></th>\n",
       "      <th>Student</th>\n",
       "      <th>Grade</th>\n",
       "      <th>Major</th>\n",
       "    </tr>\n",
       "  </thead>\n",
       "  <tbody>\n",
       "    <tr>\n",
       "      <th>0</th>\n",
       "      <td>Alex</td>\n",
       "      <td>1</td>\n",
       "      <td>CS</td>\n",
       "    </tr>\n",
       "    <tr>\n",
       "      <th>1</th>\n",
       "      <td>Ben</td>\n",
       "      <td>1</td>\n",
       "      <td>Math</td>\n",
       "    </tr>\n",
       "    <tr>\n",
       "      <th>2</th>\n",
       "      <td>Charlie</td>\n",
       "      <td>2</td>\n",
       "      <td>CS</td>\n",
       "    </tr>\n",
       "    <tr>\n",
       "      <th>3</th>\n",
       "      <td>David</td>\n",
       "      <td>3</td>\n",
       "      <td>Stats</td>\n",
       "    </tr>\n",
       "  </tbody>\n",
       "</table>\n",
       "</div>"
      ],
      "text/plain": [
       "   Student  Grade  Major\n",
       "0     Alex      1     CS\n",
       "1      Ben      1   Math\n",
       "2  Charlie      2     CS\n",
       "3    David      3  Stats"
      ]
     },
     "execution_count": 146,
     "metadata": {},
     "output_type": "execute_result"
    }
   ],
   "source": [
    "example_df = pd.DataFrame(\n",
    "    data = {\n",
    "        'Student': [\"Alex\", \"Ben\", \"Charlie\", \"David\"],\n",
    "        'Grade': [1, 1, 2, 3],\n",
    "        'Major': [\"CS\", \"Math\", \"CS\", \"Stats\"],\n",
    "    }\n",
    ")\n",
    "example_df"
   ]
  },
  {
   "cell_type": "markdown",
   "id": "d6f8f51e",
   "metadata": {},
   "source": [
    "There are useful tools such as `DataFrame.shape` which tells you the dimension of the DataFrame. More on these can be found [here](https://pandas.pydata.org/docs/reference/api/pandas.DataFrame.html)"
   ]
  },
  {
   "cell_type": "markdown",
   "id": "9afc4d47",
   "metadata": {},
   "source": [
    "#### Slicing\n",
    "There are 3 main ways to slice DataFrmaes: `loc`, `iloc`, and `[]`. `loc` takes in two arguments, row labels and column labels. `iloc` is similar to `loc` but it takes in row and column numbers instead of labels. `[]` is the more general operator.\n",
    "\n",
    "We will just see a brief example of how to use these 3."
   ]
  },
  {
   "cell_type": "code",
   "execution_count": 147,
   "id": "77541da1",
   "metadata": {},
   "outputs": [
    {
     "data": {
      "text/html": [
       "<div>\n",
       "<style scoped>\n",
       "    .dataframe tbody tr th:only-of-type {\n",
       "        vertical-align: middle;\n",
       "    }\n",
       "\n",
       "    .dataframe tbody tr th {\n",
       "        vertical-align: top;\n",
       "    }\n",
       "\n",
       "    .dataframe thead th {\n",
       "        text-align: right;\n",
       "    }\n",
       "</style>\n",
       "<table border=\"1\" class=\"dataframe\">\n",
       "  <thead>\n",
       "    <tr style=\"text-align: right;\">\n",
       "      <th></th>\n",
       "      <th>Student</th>\n",
       "      <th>Major</th>\n",
       "    </tr>\n",
       "  </thead>\n",
       "  <tbody>\n",
       "    <tr>\n",
       "      <th>0</th>\n",
       "      <td>Alex</td>\n",
       "      <td>CS</td>\n",
       "    </tr>\n",
       "    <tr>\n",
       "      <th>1</th>\n",
       "      <td>Ben</td>\n",
       "      <td>Math</td>\n",
       "    </tr>\n",
       "    <tr>\n",
       "      <th>2</th>\n",
       "      <td>Charlie</td>\n",
       "      <td>CS</td>\n",
       "    </tr>\n",
       "  </tbody>\n",
       "</table>\n",
       "</div>"
      ],
      "text/plain": [
       "   Student Major\n",
       "0     Alex    CS\n",
       "1      Ben  Math\n",
       "2  Charlie    CS"
      ]
     },
     "execution_count": 147,
     "metadata": {},
     "output_type": "execute_result"
    }
   ],
   "source": [
    "# get rows 0 through 2 and columns Student and Major\n",
    "example_df.loc[0:2, ['Student', 'Major']]"
   ]
  },
  {
   "cell_type": "code",
   "execution_count": 148,
   "id": "a73a651f",
   "metadata": {},
   "outputs": [
    {
     "data": {
      "text/html": [
       "<div>\n",
       "<style scoped>\n",
       "    .dataframe tbody tr th:only-of-type {\n",
       "        vertical-align: middle;\n",
       "    }\n",
       "\n",
       "    .dataframe tbody tr th {\n",
       "        vertical-align: top;\n",
       "    }\n",
       "\n",
       "    .dataframe thead th {\n",
       "        text-align: right;\n",
       "    }\n",
       "</style>\n",
       "<table border=\"1\" class=\"dataframe\">\n",
       "  <thead>\n",
       "    <tr style=\"text-align: right;\">\n",
       "      <th></th>\n",
       "      <th>Student</th>\n",
       "      <th>Grade</th>\n",
       "    </tr>\n",
       "  </thead>\n",
       "  <tbody>\n",
       "    <tr>\n",
       "      <th>0</th>\n",
       "      <td>Alex</td>\n",
       "      <td>1</td>\n",
       "    </tr>\n",
       "    <tr>\n",
       "      <th>3</th>\n",
       "      <td>David</td>\n",
       "      <td>3</td>\n",
       "    </tr>\n",
       "  </tbody>\n",
       "</table>\n",
       "</div>"
      ],
      "text/plain": [
       "  Student  Grade\n",
       "0    Alex      1\n",
       "3   David      3"
      ]
     },
     "execution_count": 148,
     "metadata": {},
     "output_type": "execute_result"
    }
   ],
   "source": [
    "# get rows 0 and 3 and columns 0 through 2 (exclusive)\n",
    "example_df.iloc[[0, 3], 0:2]"
   ]
  },
  {
   "cell_type": "code",
   "execution_count": 149,
   "id": "9002bc44",
   "metadata": {},
   "outputs": [
    {
     "data": {
      "text/html": [
       "<div>\n",
       "<style scoped>\n",
       "    .dataframe tbody tr th:only-of-type {\n",
       "        vertical-align: middle;\n",
       "    }\n",
       "\n",
       "    .dataframe tbody tr th {\n",
       "        vertical-align: top;\n",
       "    }\n",
       "\n",
       "    .dataframe thead th {\n",
       "        text-align: right;\n",
       "    }\n",
       "</style>\n",
       "<table border=\"1\" class=\"dataframe\">\n",
       "  <thead>\n",
       "    <tr style=\"text-align: right;\">\n",
       "      <th></th>\n",
       "      <th>Student</th>\n",
       "      <th>Grade</th>\n",
       "      <th>Major</th>\n",
       "    </tr>\n",
       "  </thead>\n",
       "  <tbody>\n",
       "    <tr>\n",
       "      <th>0</th>\n",
       "      <td>Alex</td>\n",
       "      <td>1</td>\n",
       "      <td>CS</td>\n",
       "    </tr>\n",
       "    <tr>\n",
       "      <th>1</th>\n",
       "      <td>Ben</td>\n",
       "      <td>1</td>\n",
       "      <td>Math</td>\n",
       "    </tr>\n",
       "    <tr>\n",
       "      <th>2</th>\n",
       "      <td>Charlie</td>\n",
       "      <td>2</td>\n",
       "      <td>CS</td>\n",
       "    </tr>\n",
       "  </tbody>\n",
       "</table>\n",
       "</div>"
      ],
      "text/plain": [
       "   Student  Grade Major\n",
       "0     Alex      1    CS\n",
       "1      Ben      1  Math\n",
       "2  Charlie      2    CS"
      ]
     },
     "execution_count": 149,
     "metadata": {},
     "output_type": "execute_result"
    }
   ],
   "source": [
    "# get rows 0 through 3 (exclusive)\n",
    "example_df[0:3]"
   ]
  },
  {
   "cell_type": "markdown",
   "id": "6181670f",
   "metadata": {},
   "source": [
    "#### Q1. Create a sample DataFrame with at least 5 rows and columns and display the original DataFrame"
   ]
  },
  {
   "cell_type": "code",
   "execution_count": 150,
   "id": "e452e6d4",
   "metadata": {},
   "outputs": [
    {
     "data": {
      "text/html": [
       "<div>\n",
       "<style scoped>\n",
       "    .dataframe tbody tr th:only-of-type {\n",
       "        vertical-align: middle;\n",
       "    }\n",
       "\n",
       "    .dataframe tbody tr th {\n",
       "        vertical-align: top;\n",
       "    }\n",
       "\n",
       "    .dataframe thead th {\n",
       "        text-align: right;\n",
       "    }\n",
       "</style>\n",
       "<table border=\"1\" class=\"dataframe\">\n",
       "  <thead>\n",
       "    <tr style=\"text-align: right;\">\n",
       "      <th></th>\n",
       "      <th>name</th>\n",
       "      <th>industry</th>\n",
       "      <th>type of fraud</th>\n",
       "      <th>location</th>\n",
       "      <th>year fraud discovered</th>\n",
       "    </tr>\n",
       "  </thead>\n",
       "  <tbody>\n",
       "    <tr>\n",
       "      <th>0</th>\n",
       "      <td>Enron</td>\n",
       "      <td>commodities and energy</td>\n",
       "      <td>accounting</td>\n",
       "      <td>United States</td>\n",
       "      <td>2001</td>\n",
       "    </tr>\n",
       "    <tr>\n",
       "      <th>1</th>\n",
       "      <td>FTX</td>\n",
       "      <td>cryptocurrency</td>\n",
       "      <td>account comingling</td>\n",
       "      <td>The Bahamas</td>\n",
       "      <td>2022</td>\n",
       "    </tr>\n",
       "    <tr>\n",
       "      <th>2</th>\n",
       "      <td>Wirecard</td>\n",
       "      <td>payments</td>\n",
       "      <td>accounting</td>\n",
       "      <td>Germany</td>\n",
       "      <td>2020</td>\n",
       "    </tr>\n",
       "    <tr>\n",
       "      <th>3</th>\n",
       "      <td>Theranos</td>\n",
       "      <td>healthcare</td>\n",
       "      <td>fradulent technology</td>\n",
       "      <td>United States</td>\n",
       "      <td>2015</td>\n",
       "    </tr>\n",
       "    <tr>\n",
       "      <th>4</th>\n",
       "      <td>Adani Group</td>\n",
       "      <td>industrial conglomorate</td>\n",
       "      <td>stock manipulation</td>\n",
       "      <td>India</td>\n",
       "      <td>2023</td>\n",
       "    </tr>\n",
       "  </tbody>\n",
       "</table>\n",
       "</div>"
      ],
      "text/plain": [
       "          name                 industry         type of fraud       location  \\\n",
       "0        Enron   commodities and energy            accounting  United States   \n",
       "1          FTX           cryptocurrency    account comingling    The Bahamas   \n",
       "2     Wirecard                 payments            accounting        Germany   \n",
       "3     Theranos               healthcare  fradulent technology  United States   \n",
       "4  Adani Group  industrial conglomorate    stock manipulation          India   \n",
       "\n",
       "   year fraud discovered  \n",
       "0                   2001  \n",
       "1                   2022  \n",
       "2                   2020  \n",
       "3                   2015  \n",
       "4                   2023  "
      ]
     },
     "execution_count": 150,
     "metadata": {},
     "output_type": "execute_result"
    }
   ],
   "source": [
    "fraud_companies = pd.DataFrame(\n",
    "    data = {\n",
    "        'name': ['Enron', 'FTX', 'Wirecard', 'Theranos', 'Adani Group'], \n",
    "        'industry' : ['commodities and energy', 'cryptocurrency', 'payments', 'healthcare', 'industrial conglomorate'],\n",
    "        'type of fraud': ['accounting', 'account comingling', 'accounting', 'fradulent technology', 'stock manipulation'],\n",
    "        'location' : ['United States', 'The Bahamas', 'Germany', 'United States', 'India'],\n",
    "        'year fraud discovered' : [2001, 2022, 2020,2015 ,2023]\n",
    "    }\n",
    ")\n",
    "fraud_companies"
   ]
  },
  {
   "cell_type": "markdown",
   "id": "8292c37b",
   "metadata": {},
   "source": [
    "#### Q2. Display the DataFrame above but with just the rows 1 through 3 and columns 2 and 4 (0-indexed)"
   ]
  },
  {
   "cell_type": "code",
   "execution_count": 151,
   "id": "dee5336d",
   "metadata": {},
   "outputs": [
    {
     "data": {
      "text/html": [
       "<div>\n",
       "<style scoped>\n",
       "    .dataframe tbody tr th:only-of-type {\n",
       "        vertical-align: middle;\n",
       "    }\n",
       "\n",
       "    .dataframe tbody tr th {\n",
       "        vertical-align: top;\n",
       "    }\n",
       "\n",
       "    .dataframe thead th {\n",
       "        text-align: right;\n",
       "    }\n",
       "</style>\n",
       "<table border=\"1\" class=\"dataframe\">\n",
       "  <thead>\n",
       "    <tr style=\"text-align: right;\">\n",
       "      <th></th>\n",
       "      <th>industry</th>\n",
       "      <th>type of fraud</th>\n",
       "      <th>location</th>\n",
       "    </tr>\n",
       "  </thead>\n",
       "  <tbody>\n",
       "    <tr>\n",
       "      <th>2</th>\n",
       "      <td>payments</td>\n",
       "      <td>accounting</td>\n",
       "      <td>Germany</td>\n",
       "    </tr>\n",
       "    <tr>\n",
       "      <th>4</th>\n",
       "      <td>industrial conglomorate</td>\n",
       "      <td>stock manipulation</td>\n",
       "      <td>India</td>\n",
       "    </tr>\n",
       "  </tbody>\n",
       "</table>\n",
       "</div>"
      ],
      "text/plain": [
       "                  industry       type of fraud location\n",
       "2                 payments          accounting  Germany\n",
       "4  industrial conglomorate  stock manipulation    India"
      ]
     },
     "execution_count": 151,
     "metadata": {},
     "output_type": "execute_result"
    }
   ],
   "source": [
    "fraud_companies.iloc[[2, 4], 1:4]"
   ]
  },
  {
   "cell_type": "markdown",
   "id": "cdb25c28",
   "metadata": {},
   "source": [
    "#### Q3. Using the DataFrame you created in Q1, add a new column to it."
   ]
  },
  {
   "cell_type": "code",
   "execution_count": 152,
   "id": "cacc175e",
   "metadata": {},
   "outputs": [
    {
     "data": {
      "text/html": [
       "<div>\n",
       "<style scoped>\n",
       "    .dataframe tbody tr th:only-of-type {\n",
       "        vertical-align: middle;\n",
       "    }\n",
       "\n",
       "    .dataframe tbody tr th {\n",
       "        vertical-align: top;\n",
       "    }\n",
       "\n",
       "    .dataframe thead th {\n",
       "        text-align: right;\n",
       "    }\n",
       "</style>\n",
       "<table border=\"1\" class=\"dataframe\">\n",
       "  <thead>\n",
       "    <tr style=\"text-align: right;\">\n",
       "      <th></th>\n",
       "      <th>name</th>\n",
       "      <th>industry</th>\n",
       "      <th>type of fraud</th>\n",
       "      <th>location</th>\n",
       "      <th>year fraud discovered</th>\n",
       "      <th>is stanford connected</th>\n",
       "    </tr>\n",
       "  </thead>\n",
       "  <tbody>\n",
       "    <tr>\n",
       "      <th>0</th>\n",
       "      <td>Enron</td>\n",
       "      <td>commodities and energy</td>\n",
       "      <td>accounting</td>\n",
       "      <td>United States</td>\n",
       "      <td>2001</td>\n",
       "      <td>False</td>\n",
       "    </tr>\n",
       "    <tr>\n",
       "      <th>1</th>\n",
       "      <td>FTX</td>\n",
       "      <td>cryptocurrency</td>\n",
       "      <td>account comingling</td>\n",
       "      <td>The Bahamas</td>\n",
       "      <td>2022</td>\n",
       "      <td>True</td>\n",
       "    </tr>\n",
       "    <tr>\n",
       "      <th>2</th>\n",
       "      <td>Wirecard</td>\n",
       "      <td>payments</td>\n",
       "      <td>accounting</td>\n",
       "      <td>Germany</td>\n",
       "      <td>2020</td>\n",
       "      <td>False</td>\n",
       "    </tr>\n",
       "    <tr>\n",
       "      <th>3</th>\n",
       "      <td>Theranos</td>\n",
       "      <td>healthcare</td>\n",
       "      <td>fradulent technology</td>\n",
       "      <td>United States</td>\n",
       "      <td>2015</td>\n",
       "      <td>True</td>\n",
       "    </tr>\n",
       "    <tr>\n",
       "      <th>4</th>\n",
       "      <td>Adani Group</td>\n",
       "      <td>industrial conglomorate</td>\n",
       "      <td>stock manipulation</td>\n",
       "      <td>India</td>\n",
       "      <td>2023</td>\n",
       "      <td>False</td>\n",
       "    </tr>\n",
       "  </tbody>\n",
       "</table>\n",
       "</div>"
      ],
      "text/plain": [
       "          name                 industry         type of fraud       location  \\\n",
       "0        Enron   commodities and energy            accounting  United States   \n",
       "1          FTX           cryptocurrency    account comingling    The Bahamas   \n",
       "2     Wirecard                 payments            accounting        Germany   \n",
       "3     Theranos               healthcare  fradulent technology  United States   \n",
       "4  Adani Group  industrial conglomorate    stock manipulation          India   \n",
       "\n",
       "   year fraud discovered  is stanford connected  \n",
       "0                   2001                  False  \n",
       "1                   2022                   True  \n",
       "2                   2020                  False  \n",
       "3                   2015                   True  \n",
       "4                   2023                  False  "
      ]
     },
     "execution_count": 152,
     "metadata": {},
     "output_type": "execute_result"
    }
   ],
   "source": [
    "fraud_companies['is stanford connected'] = np.array([False, True, False, True, False])\n",
    "fraud_companies"
   ]
  },
  {
   "cell_type": "markdown",
   "id": "3b266bf5",
   "metadata": {},
   "source": [
    "#### Q4. Using the `.drop()` function, drop one of the columns from the DataFrame you created in Q1 and display it."
   ]
  },
  {
   "cell_type": "code",
   "execution_count": 153,
   "id": "9c217a3f",
   "metadata": {},
   "outputs": [
    {
     "data": {
      "text/html": [
       "<div>\n",
       "<style scoped>\n",
       "    .dataframe tbody tr th:only-of-type {\n",
       "        vertical-align: middle;\n",
       "    }\n",
       "\n",
       "    .dataframe tbody tr th {\n",
       "        vertical-align: top;\n",
       "    }\n",
       "\n",
       "    .dataframe thead th {\n",
       "        text-align: right;\n",
       "    }\n",
       "</style>\n",
       "<table border=\"1\" class=\"dataframe\">\n",
       "  <thead>\n",
       "    <tr style=\"text-align: right;\">\n",
       "      <th></th>\n",
       "      <th>name</th>\n",
       "      <th>industry</th>\n",
       "      <th>type of fraud</th>\n",
       "      <th>location</th>\n",
       "      <th>is stanford connected</th>\n",
       "    </tr>\n",
       "  </thead>\n",
       "  <tbody>\n",
       "    <tr>\n",
       "      <th>0</th>\n",
       "      <td>Enron</td>\n",
       "      <td>commodities and energy</td>\n",
       "      <td>accounting</td>\n",
       "      <td>United States</td>\n",
       "      <td>False</td>\n",
       "    </tr>\n",
       "    <tr>\n",
       "      <th>1</th>\n",
       "      <td>FTX</td>\n",
       "      <td>cryptocurrency</td>\n",
       "      <td>account comingling</td>\n",
       "      <td>The Bahamas</td>\n",
       "      <td>True</td>\n",
       "    </tr>\n",
       "    <tr>\n",
       "      <th>2</th>\n",
       "      <td>Wirecard</td>\n",
       "      <td>payments</td>\n",
       "      <td>accounting</td>\n",
       "      <td>Germany</td>\n",
       "      <td>False</td>\n",
       "    </tr>\n",
       "    <tr>\n",
       "      <th>3</th>\n",
       "      <td>Theranos</td>\n",
       "      <td>healthcare</td>\n",
       "      <td>fradulent technology</td>\n",
       "      <td>United States</td>\n",
       "      <td>True</td>\n",
       "    </tr>\n",
       "    <tr>\n",
       "      <th>4</th>\n",
       "      <td>Adani Group</td>\n",
       "      <td>industrial conglomorate</td>\n",
       "      <td>stock manipulation</td>\n",
       "      <td>India</td>\n",
       "      <td>False</td>\n",
       "    </tr>\n",
       "  </tbody>\n",
       "</table>\n",
       "</div>"
      ],
      "text/plain": [
       "          name                 industry         type of fraud       location  \\\n",
       "0        Enron   commodities and energy            accounting  United States   \n",
       "1          FTX           cryptocurrency    account comingling    The Bahamas   \n",
       "2     Wirecard                 payments            accounting        Germany   \n",
       "3     Theranos               healthcare  fradulent technology  United States   \n",
       "4  Adani Group  industrial conglomorate    stock manipulation          India   \n",
       "\n",
       "   is stanford connected  \n",
       "0                  False  \n",
       "1                   True  \n",
       "2                  False  \n",
       "3                   True  \n",
       "4                  False  "
      ]
     },
     "execution_count": 153,
     "metadata": {},
     "output_type": "execute_result"
    }
   ],
   "source": [
    "fraud_companies.drop(['year fraud discovered'], axis = 1)"
   ]
  },
  {
   "cell_type": "markdown",
   "id": "6f66e073",
   "metadata": {},
   "source": [
    "#### Q5. Using the `.rename()` function, rename one of the columns from the DataFrame you created in Q1 and display it."
   ]
  },
  {
   "cell_type": "code",
   "execution_count": 154,
   "id": "cfcdac44",
   "metadata": {
    "scrolled": true
   },
   "outputs": [
    {
     "data": {
      "text/html": [
       "<div>\n",
       "<style scoped>\n",
       "    .dataframe tbody tr th:only-of-type {\n",
       "        vertical-align: middle;\n",
       "    }\n",
       "\n",
       "    .dataframe tbody tr th {\n",
       "        vertical-align: top;\n",
       "    }\n",
       "\n",
       "    .dataframe thead th {\n",
       "        text-align: right;\n",
       "    }\n",
       "</style>\n",
       "<table border=\"1\" class=\"dataframe\">\n",
       "  <thead>\n",
       "    <tr style=\"text-align: right;\">\n",
       "      <th></th>\n",
       "      <th>name</th>\n",
       "      <th>industry</th>\n",
       "      <th>type of fraud</th>\n",
       "      <th>country</th>\n",
       "      <th>year fraud discovered</th>\n",
       "      <th>is stanford connected</th>\n",
       "    </tr>\n",
       "  </thead>\n",
       "  <tbody>\n",
       "    <tr>\n",
       "      <th>0</th>\n",
       "      <td>Enron</td>\n",
       "      <td>commodities and energy</td>\n",
       "      <td>accounting</td>\n",
       "      <td>United States</td>\n",
       "      <td>2001</td>\n",
       "      <td>False</td>\n",
       "    </tr>\n",
       "    <tr>\n",
       "      <th>1</th>\n",
       "      <td>FTX</td>\n",
       "      <td>cryptocurrency</td>\n",
       "      <td>account comingling</td>\n",
       "      <td>The Bahamas</td>\n",
       "      <td>2022</td>\n",
       "      <td>True</td>\n",
       "    </tr>\n",
       "    <tr>\n",
       "      <th>2</th>\n",
       "      <td>Wirecard</td>\n",
       "      <td>payments</td>\n",
       "      <td>accounting</td>\n",
       "      <td>Germany</td>\n",
       "      <td>2020</td>\n",
       "      <td>False</td>\n",
       "    </tr>\n",
       "    <tr>\n",
       "      <th>3</th>\n",
       "      <td>Theranos</td>\n",
       "      <td>healthcare</td>\n",
       "      <td>fradulent technology</td>\n",
       "      <td>United States</td>\n",
       "      <td>2015</td>\n",
       "      <td>True</td>\n",
       "    </tr>\n",
       "    <tr>\n",
       "      <th>4</th>\n",
       "      <td>Adani Group</td>\n",
       "      <td>industrial conglomorate</td>\n",
       "      <td>stock manipulation</td>\n",
       "      <td>India</td>\n",
       "      <td>2023</td>\n",
       "      <td>False</td>\n",
       "    </tr>\n",
       "  </tbody>\n",
       "</table>\n",
       "</div>"
      ],
      "text/plain": [
       "          name                 industry         type of fraud        country  \\\n",
       "0        Enron   commodities and energy            accounting  United States   \n",
       "1          FTX           cryptocurrency    account comingling    The Bahamas   \n",
       "2     Wirecard                 payments            accounting        Germany   \n",
       "3     Theranos               healthcare  fradulent technology  United States   \n",
       "4  Adani Group  industrial conglomorate    stock manipulation          India   \n",
       "\n",
       "   year fraud discovered  is stanford connected  \n",
       "0                   2001                  False  \n",
       "1                   2022                   True  \n",
       "2                   2020                  False  \n",
       "3                   2015                   True  \n",
       "4                   2023                  False  "
      ]
     },
     "execution_count": 154,
     "metadata": {},
     "output_type": "execute_result"
    }
   ],
   "source": [
    "fraud_companies.rename(columns={'location': 'country'})"
   ]
  },
  {
   "cell_type": "markdown",
   "id": "4fa87ff3",
   "metadata": {},
   "source": [
    "### Filtering Data\n",
    "When we want to filter our DataFrame for a specific set of data, we can use boolean symbols to do so.\n",
    "\n",
    "Say from our `example_df` above, we want to only look through students who's grade is at most 2."
   ]
  },
  {
   "cell_type": "code",
   "execution_count": 155,
   "id": "87a2a4ba",
   "metadata": {
    "scrolled": true
   },
   "outputs": [
    {
     "data": {
      "text/html": [
       "<div>\n",
       "<style scoped>\n",
       "    .dataframe tbody tr th:only-of-type {\n",
       "        vertical-align: middle;\n",
       "    }\n",
       "\n",
       "    .dataframe tbody tr th {\n",
       "        vertical-align: top;\n",
       "    }\n",
       "\n",
       "    .dataframe thead th {\n",
       "        text-align: right;\n",
       "    }\n",
       "</style>\n",
       "<table border=\"1\" class=\"dataframe\">\n",
       "  <thead>\n",
       "    <tr style=\"text-align: right;\">\n",
       "      <th></th>\n",
       "      <th>Student</th>\n",
       "      <th>Grade</th>\n",
       "      <th>Major</th>\n",
       "    </tr>\n",
       "  </thead>\n",
       "  <tbody>\n",
       "    <tr>\n",
       "      <th>0</th>\n",
       "      <td>Alex</td>\n",
       "      <td>1</td>\n",
       "      <td>CS</td>\n",
       "    </tr>\n",
       "    <tr>\n",
       "      <th>1</th>\n",
       "      <td>Ben</td>\n",
       "      <td>1</td>\n",
       "      <td>Math</td>\n",
       "    </tr>\n",
       "    <tr>\n",
       "      <th>2</th>\n",
       "      <td>Charlie</td>\n",
       "      <td>2</td>\n",
       "      <td>CS</td>\n",
       "    </tr>\n",
       "  </tbody>\n",
       "</table>\n",
       "</div>"
      ],
      "text/plain": [
       "   Student  Grade Major\n",
       "0     Alex      1    CS\n",
       "1      Ben      1  Math\n",
       "2  Charlie      2    CS"
      ]
     },
     "execution_count": 155,
     "metadata": {},
     "output_type": "execute_result"
    }
   ],
   "source": [
    "example_df[example_df[\"Grade\"] <= 2]"
   ]
  },
  {
   "cell_type": "markdown",
   "id": "b44ba6f3",
   "metadata": {},
   "source": [
    "Now, let's say we want to filter for students who are CS majors and grade 1."
   ]
  },
  {
   "cell_type": "code",
   "execution_count": 156,
   "id": "af214e5e",
   "metadata": {},
   "outputs": [
    {
     "data": {
      "text/html": [
       "<div>\n",
       "<style scoped>\n",
       "    .dataframe tbody tr th:only-of-type {\n",
       "        vertical-align: middle;\n",
       "    }\n",
       "\n",
       "    .dataframe tbody tr th {\n",
       "        vertical-align: top;\n",
       "    }\n",
       "\n",
       "    .dataframe thead th {\n",
       "        text-align: right;\n",
       "    }\n",
       "</style>\n",
       "<table border=\"1\" class=\"dataframe\">\n",
       "  <thead>\n",
       "    <tr style=\"text-align: right;\">\n",
       "      <th></th>\n",
       "      <th>Student</th>\n",
       "      <th>Grade</th>\n",
       "      <th>Major</th>\n",
       "    </tr>\n",
       "  </thead>\n",
       "  <tbody>\n",
       "    <tr>\n",
       "      <th>0</th>\n",
       "      <td>Alex</td>\n",
       "      <td>1</td>\n",
       "      <td>CS</td>\n",
       "    </tr>\n",
       "  </tbody>\n",
       "</table>\n",
       "</div>"
      ],
      "text/plain": [
       "  Student  Grade Major\n",
       "0    Alex      1    CS"
      ]
     },
     "execution_count": 156,
     "metadata": {},
     "output_type": "execute_result"
    }
   ],
   "source": [
    "example_df[(example_df[\"Major\"] == \"CS\") & (example_df[\"Grade\"] == 1)]"
   ]
  },
  {
   "cell_type": "markdown",
   "id": "ec3fdb01",
   "metadata": {},
   "source": [
    "Another cool way of filtering is using the method `groupby`. Let's say we want to know the number of students from each Grade."
   ]
  },
  {
   "cell_type": "code",
   "execution_count": 157,
   "id": "95dbee7d",
   "metadata": {},
   "outputs": [
    {
     "data": {
      "text/html": [
       "<div>\n",
       "<style scoped>\n",
       "    .dataframe tbody tr th:only-of-type {\n",
       "        vertical-align: middle;\n",
       "    }\n",
       "\n",
       "    .dataframe tbody tr th {\n",
       "        vertical-align: top;\n",
       "    }\n",
       "\n",
       "    .dataframe thead th {\n",
       "        text-align: right;\n",
       "    }\n",
       "</style>\n",
       "<table border=\"1\" class=\"dataframe\">\n",
       "  <thead>\n",
       "    <tr style=\"text-align: right;\">\n",
       "      <th></th>\n",
       "      <th>Student</th>\n",
       "      <th>Major</th>\n",
       "    </tr>\n",
       "    <tr>\n",
       "      <th>Grade</th>\n",
       "      <th></th>\n",
       "      <th></th>\n",
       "    </tr>\n",
       "  </thead>\n",
       "  <tbody>\n",
       "    <tr>\n",
       "      <th>1</th>\n",
       "      <td>2</td>\n",
       "      <td>2</td>\n",
       "    </tr>\n",
       "    <tr>\n",
       "      <th>2</th>\n",
       "      <td>1</td>\n",
       "      <td>1</td>\n",
       "    </tr>\n",
       "    <tr>\n",
       "      <th>3</th>\n",
       "      <td>1</td>\n",
       "      <td>1</td>\n",
       "    </tr>\n",
       "  </tbody>\n",
       "</table>\n",
       "</div>"
      ],
      "text/plain": [
       "       Student  Major\n",
       "Grade                \n",
       "1            2      2\n",
       "2            1      1\n",
       "3            1      1"
      ]
     },
     "execution_count": 157,
     "metadata": {},
     "output_type": "execute_result"
    }
   ],
   "source": [
    "example_df.groupby([\"Grade\"]).count()"
   ]
  },
  {
   "cell_type": "markdown",
   "id": "67515e95",
   "metadata": {},
   "source": [
    "#### Q1. Using your DataFrame from the previous question, do some sort of filtering and show your code & output below."
   ]
  },
  {
   "cell_type": "code",
   "execution_count": 158,
   "id": "7f6a7338",
   "metadata": {},
   "outputs": [
    {
     "data": {
      "text/plain": [
       "location\n",
       "Germany          1\n",
       "India            1\n",
       "The Bahamas      1\n",
       "United States    2\n",
       "dtype: int64"
      ]
     },
     "execution_count": 158,
     "metadata": {},
     "output_type": "execute_result"
    }
   ],
   "source": [
    "fraud_companies.groupby('location').size()"
   ]
  },
  {
   "cell_type": "markdown",
   "id": "2140a142",
   "metadata": {},
   "source": [
    "----"
   ]
  },
  {
   "cell_type": "markdown",
   "id": "b3384522",
   "metadata": {},
   "source": [
    "Now let's download an external dataset. We can use the `read_csv` function from pandas to do so. We demonstrate how we can convert the data in `cars.csv` into a pandas dataframe in order to work with it in python."
   ]
  },
  {
   "cell_type": "code",
   "execution_count": 159,
   "id": "358e042a",
   "metadata": {},
   "outputs": [],
   "source": [
    "data = pd.read_csv('./cars.csv', delimiter = ';').tail(-1)"
   ]
  },
  {
   "cell_type": "markdown",
   "id": "88d9f43d",
   "metadata": {},
   "source": [
    "#### Q2. Display the first 15 rows of `data` using the `head` function."
   ]
  },
  {
   "cell_type": "code",
   "execution_count": 160,
   "id": "58d4474c",
   "metadata": {},
   "outputs": [
    {
     "data": {
      "text/html": [
       "<div>\n",
       "<style scoped>\n",
       "    .dataframe tbody tr th:only-of-type {\n",
       "        vertical-align: middle;\n",
       "    }\n",
       "\n",
       "    .dataframe tbody tr th {\n",
       "        vertical-align: top;\n",
       "    }\n",
       "\n",
       "    .dataframe thead th {\n",
       "        text-align: right;\n",
       "    }\n",
       "</style>\n",
       "<table border=\"1\" class=\"dataframe\">\n",
       "  <thead>\n",
       "    <tr style=\"text-align: right;\">\n",
       "      <th></th>\n",
       "      <th>Car</th>\n",
       "      <th>MPG</th>\n",
       "      <th>Cylinders</th>\n",
       "      <th>Displacement</th>\n",
       "      <th>Horsepower</th>\n",
       "      <th>Weight</th>\n",
       "      <th>Acceleration</th>\n",
       "      <th>Model</th>\n",
       "      <th>Origin</th>\n",
       "    </tr>\n",
       "  </thead>\n",
       "  <tbody>\n",
       "    <tr>\n",
       "      <th>1</th>\n",
       "      <td>Chevrolet Chevelle Malibu</td>\n",
       "      <td>18.0</td>\n",
       "      <td>8</td>\n",
       "      <td>307.0</td>\n",
       "      <td>130.0</td>\n",
       "      <td>3504.</td>\n",
       "      <td>12.0</td>\n",
       "      <td>70</td>\n",
       "      <td>US</td>\n",
       "    </tr>\n",
       "    <tr>\n",
       "      <th>2</th>\n",
       "      <td>Buick Skylark 320</td>\n",
       "      <td>15.0</td>\n",
       "      <td>8</td>\n",
       "      <td>350.0</td>\n",
       "      <td>165.0</td>\n",
       "      <td>3693.</td>\n",
       "      <td>11.5</td>\n",
       "      <td>70</td>\n",
       "      <td>US</td>\n",
       "    </tr>\n",
       "    <tr>\n",
       "      <th>3</th>\n",
       "      <td>Plymouth Satellite</td>\n",
       "      <td>18.0</td>\n",
       "      <td>8</td>\n",
       "      <td>318.0</td>\n",
       "      <td>150.0</td>\n",
       "      <td>3436.</td>\n",
       "      <td>11.0</td>\n",
       "      <td>70</td>\n",
       "      <td>US</td>\n",
       "    </tr>\n",
       "    <tr>\n",
       "      <th>4</th>\n",
       "      <td>AMC Rebel SST</td>\n",
       "      <td>16.0</td>\n",
       "      <td>8</td>\n",
       "      <td>304.0</td>\n",
       "      <td>150.0</td>\n",
       "      <td>3433.</td>\n",
       "      <td>12.0</td>\n",
       "      <td>70</td>\n",
       "      <td>US</td>\n",
       "    </tr>\n",
       "    <tr>\n",
       "      <th>5</th>\n",
       "      <td>Ford Torino</td>\n",
       "      <td>17.0</td>\n",
       "      <td>8</td>\n",
       "      <td>302.0</td>\n",
       "      <td>140.0</td>\n",
       "      <td>3449.</td>\n",
       "      <td>10.5</td>\n",
       "      <td>70</td>\n",
       "      <td>US</td>\n",
       "    </tr>\n",
       "    <tr>\n",
       "      <th>6</th>\n",
       "      <td>Ford Galaxie 500</td>\n",
       "      <td>15.0</td>\n",
       "      <td>8</td>\n",
       "      <td>429.0</td>\n",
       "      <td>198.0</td>\n",
       "      <td>4341.</td>\n",
       "      <td>10.0</td>\n",
       "      <td>70</td>\n",
       "      <td>US</td>\n",
       "    </tr>\n",
       "    <tr>\n",
       "      <th>7</th>\n",
       "      <td>Chevrolet Impala</td>\n",
       "      <td>14.0</td>\n",
       "      <td>8</td>\n",
       "      <td>454.0</td>\n",
       "      <td>220.0</td>\n",
       "      <td>4354.</td>\n",
       "      <td>9.0</td>\n",
       "      <td>70</td>\n",
       "      <td>US</td>\n",
       "    </tr>\n",
       "    <tr>\n",
       "      <th>8</th>\n",
       "      <td>Plymouth Fury iii</td>\n",
       "      <td>14.0</td>\n",
       "      <td>8</td>\n",
       "      <td>440.0</td>\n",
       "      <td>215.0</td>\n",
       "      <td>4312.</td>\n",
       "      <td>8.5</td>\n",
       "      <td>70</td>\n",
       "      <td>US</td>\n",
       "    </tr>\n",
       "    <tr>\n",
       "      <th>9</th>\n",
       "      <td>Pontiac Catalina</td>\n",
       "      <td>14.0</td>\n",
       "      <td>8</td>\n",
       "      <td>455.0</td>\n",
       "      <td>225.0</td>\n",
       "      <td>4425.</td>\n",
       "      <td>10.0</td>\n",
       "      <td>70</td>\n",
       "      <td>US</td>\n",
       "    </tr>\n",
       "    <tr>\n",
       "      <th>10</th>\n",
       "      <td>AMC Ambassador DPL</td>\n",
       "      <td>15.0</td>\n",
       "      <td>8</td>\n",
       "      <td>390.0</td>\n",
       "      <td>190.0</td>\n",
       "      <td>3850.</td>\n",
       "      <td>8.5</td>\n",
       "      <td>70</td>\n",
       "      <td>US</td>\n",
       "    </tr>\n",
       "    <tr>\n",
       "      <th>11</th>\n",
       "      <td>Citroen DS-21 Pallas</td>\n",
       "      <td>0</td>\n",
       "      <td>4</td>\n",
       "      <td>133.0</td>\n",
       "      <td>115.0</td>\n",
       "      <td>3090.</td>\n",
       "      <td>17.5</td>\n",
       "      <td>70</td>\n",
       "      <td>Europe</td>\n",
       "    </tr>\n",
       "    <tr>\n",
       "      <th>12</th>\n",
       "      <td>Chevrolet Chevelle Concours (sw)</td>\n",
       "      <td>0</td>\n",
       "      <td>8</td>\n",
       "      <td>350.0</td>\n",
       "      <td>165.0</td>\n",
       "      <td>4142.</td>\n",
       "      <td>11.5</td>\n",
       "      <td>70</td>\n",
       "      <td>US</td>\n",
       "    </tr>\n",
       "    <tr>\n",
       "      <th>13</th>\n",
       "      <td>Ford Torino (sw)</td>\n",
       "      <td>0</td>\n",
       "      <td>8</td>\n",
       "      <td>351.0</td>\n",
       "      <td>153.0</td>\n",
       "      <td>4034.</td>\n",
       "      <td>11.0</td>\n",
       "      <td>70</td>\n",
       "      <td>US</td>\n",
       "    </tr>\n",
       "    <tr>\n",
       "      <th>14</th>\n",
       "      <td>Plymouth Satellite (sw)</td>\n",
       "      <td>0</td>\n",
       "      <td>8</td>\n",
       "      <td>383.0</td>\n",
       "      <td>175.0</td>\n",
       "      <td>4166.</td>\n",
       "      <td>10.5</td>\n",
       "      <td>70</td>\n",
       "      <td>US</td>\n",
       "    </tr>\n",
       "    <tr>\n",
       "      <th>15</th>\n",
       "      <td>AMC Rebel SST (sw)</td>\n",
       "      <td>0</td>\n",
       "      <td>8</td>\n",
       "      <td>360.0</td>\n",
       "      <td>175.0</td>\n",
       "      <td>3850.</td>\n",
       "      <td>11.0</td>\n",
       "      <td>70</td>\n",
       "      <td>US</td>\n",
       "    </tr>\n",
       "  </tbody>\n",
       "</table>\n",
       "</div>"
      ],
      "text/plain": [
       "                                 Car   MPG Cylinders Displacement Horsepower  \\\n",
       "1          Chevrolet Chevelle Malibu  18.0         8        307.0      130.0   \n",
       "2                  Buick Skylark 320  15.0         8        350.0      165.0   \n",
       "3                 Plymouth Satellite  18.0         8        318.0      150.0   \n",
       "4                      AMC Rebel SST  16.0         8        304.0      150.0   \n",
       "5                        Ford Torino  17.0         8        302.0      140.0   \n",
       "6                   Ford Galaxie 500  15.0         8        429.0      198.0   \n",
       "7                   Chevrolet Impala  14.0         8        454.0      220.0   \n",
       "8                  Plymouth Fury iii  14.0         8        440.0      215.0   \n",
       "9                   Pontiac Catalina  14.0         8        455.0      225.0   \n",
       "10                AMC Ambassador DPL  15.0         8        390.0      190.0   \n",
       "11              Citroen DS-21 Pallas     0         4        133.0      115.0   \n",
       "12  Chevrolet Chevelle Concours (sw)     0         8        350.0      165.0   \n",
       "13                  Ford Torino (sw)     0         8        351.0      153.0   \n",
       "14           Plymouth Satellite (sw)     0         8        383.0      175.0   \n",
       "15                AMC Rebel SST (sw)     0         8        360.0      175.0   \n",
       "\n",
       "   Weight Acceleration Model  Origin  \n",
       "1   3504.         12.0    70      US  \n",
       "2   3693.         11.5    70      US  \n",
       "3   3436.         11.0    70      US  \n",
       "4   3433.         12.0    70      US  \n",
       "5   3449.         10.5    70      US  \n",
       "6   4341.         10.0    70      US  \n",
       "7   4354.          9.0    70      US  \n",
       "8   4312.          8.5    70      US  \n",
       "9   4425.         10.0    70      US  \n",
       "10  3850.          8.5    70      US  \n",
       "11  3090.         17.5    70  Europe  \n",
       "12  4142.         11.5    70      US  \n",
       "13  4034.         11.0    70      US  \n",
       "14  4166.         10.5    70      US  \n",
       "15  3850.         11.0    70      US  "
      ]
     },
     "execution_count": 160,
     "metadata": {},
     "output_type": "execute_result"
    }
   ],
   "source": [
    "data.head(15)"
   ]
  },
  {
   "cell_type": "markdown",
   "id": "a391c378",
   "metadata": {},
   "source": [
    "#### Q3. Display the last 7 rows of `data` using the `tail` function."
   ]
  },
  {
   "cell_type": "code",
   "execution_count": 161,
   "id": "4e8f3a16",
   "metadata": {},
   "outputs": [
    {
     "data": {
      "text/html": [
       "<div>\n",
       "<style scoped>\n",
       "    .dataframe tbody tr th:only-of-type {\n",
       "        vertical-align: middle;\n",
       "    }\n",
       "\n",
       "    .dataframe tbody tr th {\n",
       "        vertical-align: top;\n",
       "    }\n",
       "\n",
       "    .dataframe thead th {\n",
       "        text-align: right;\n",
       "    }\n",
       "</style>\n",
       "<table border=\"1\" class=\"dataframe\">\n",
       "  <thead>\n",
       "    <tr style=\"text-align: right;\">\n",
       "      <th></th>\n",
       "      <th>Car</th>\n",
       "      <th>MPG</th>\n",
       "      <th>Cylinders</th>\n",
       "      <th>Displacement</th>\n",
       "      <th>Horsepower</th>\n",
       "      <th>Weight</th>\n",
       "      <th>Acceleration</th>\n",
       "      <th>Model</th>\n",
       "      <th>Origin</th>\n",
       "    </tr>\n",
       "  </thead>\n",
       "  <tbody>\n",
       "    <tr>\n",
       "      <th>400</th>\n",
       "      <td>Dodge Charger 2.2</td>\n",
       "      <td>36.0</td>\n",
       "      <td>4</td>\n",
       "      <td>135.0</td>\n",
       "      <td>84.00</td>\n",
       "      <td>2370.</td>\n",
       "      <td>13.0</td>\n",
       "      <td>82</td>\n",
       "      <td>US</td>\n",
       "    </tr>\n",
       "    <tr>\n",
       "      <th>401</th>\n",
       "      <td>Chevrolet Camaro</td>\n",
       "      <td>27.0</td>\n",
       "      <td>4</td>\n",
       "      <td>151.0</td>\n",
       "      <td>90.00</td>\n",
       "      <td>2950.</td>\n",
       "      <td>17.3</td>\n",
       "      <td>82</td>\n",
       "      <td>US</td>\n",
       "    </tr>\n",
       "    <tr>\n",
       "      <th>402</th>\n",
       "      <td>Ford Mustang GL</td>\n",
       "      <td>27.0</td>\n",
       "      <td>4</td>\n",
       "      <td>140.0</td>\n",
       "      <td>86.00</td>\n",
       "      <td>2790.</td>\n",
       "      <td>15.6</td>\n",
       "      <td>82</td>\n",
       "      <td>US</td>\n",
       "    </tr>\n",
       "    <tr>\n",
       "      <th>403</th>\n",
       "      <td>Volkswagen Pickup</td>\n",
       "      <td>44.0</td>\n",
       "      <td>4</td>\n",
       "      <td>97.00</td>\n",
       "      <td>52.00</td>\n",
       "      <td>2130.</td>\n",
       "      <td>24.6</td>\n",
       "      <td>82</td>\n",
       "      <td>Europe</td>\n",
       "    </tr>\n",
       "    <tr>\n",
       "      <th>404</th>\n",
       "      <td>Dodge Rampage</td>\n",
       "      <td>32.0</td>\n",
       "      <td>4</td>\n",
       "      <td>135.0</td>\n",
       "      <td>84.00</td>\n",
       "      <td>2295.</td>\n",
       "      <td>11.6</td>\n",
       "      <td>82</td>\n",
       "      <td>US</td>\n",
       "    </tr>\n",
       "    <tr>\n",
       "      <th>405</th>\n",
       "      <td>Ford Ranger</td>\n",
       "      <td>28.0</td>\n",
       "      <td>4</td>\n",
       "      <td>120.0</td>\n",
       "      <td>79.00</td>\n",
       "      <td>2625.</td>\n",
       "      <td>18.6</td>\n",
       "      <td>82</td>\n",
       "      <td>US</td>\n",
       "    </tr>\n",
       "    <tr>\n",
       "      <th>406</th>\n",
       "      <td>Chevy S-10</td>\n",
       "      <td>31.0</td>\n",
       "      <td>4</td>\n",
       "      <td>119.0</td>\n",
       "      <td>82.00</td>\n",
       "      <td>2720.</td>\n",
       "      <td>19.4</td>\n",
       "      <td>82</td>\n",
       "      <td>US</td>\n",
       "    </tr>\n",
       "  </tbody>\n",
       "</table>\n",
       "</div>"
      ],
      "text/plain": [
       "                   Car   MPG Cylinders Displacement Horsepower Weight  \\\n",
       "400  Dodge Charger 2.2  36.0         4        135.0      84.00  2370.   \n",
       "401   Chevrolet Camaro  27.0         4        151.0      90.00  2950.   \n",
       "402    Ford Mustang GL  27.0         4        140.0      86.00  2790.   \n",
       "403  Volkswagen Pickup  44.0         4        97.00      52.00  2130.   \n",
       "404      Dodge Rampage  32.0         4        135.0      84.00  2295.   \n",
       "405        Ford Ranger  28.0         4        120.0      79.00  2625.   \n",
       "406         Chevy S-10  31.0         4        119.0      82.00  2720.   \n",
       "\n",
       "    Acceleration Model  Origin  \n",
       "400         13.0    82      US  \n",
       "401         17.3    82      US  \n",
       "402         15.6    82      US  \n",
       "403         24.6    82  Europe  \n",
       "404         11.6    82      US  \n",
       "405         18.6    82      US  \n",
       "406         19.4    82      US  "
      ]
     },
     "execution_count": 161,
     "metadata": {},
     "output_type": "execute_result"
    }
   ],
   "source": [
    "data.tail(7)"
   ]
  },
  {
   "cell_type": "markdown",
   "id": "902389f2",
   "metadata": {},
   "source": [
    "#### Q4. Using the variable `data`, find how many cars have 6 cylinders"
   ]
  },
  {
   "cell_type": "code",
   "execution_count": 162,
   "id": "0a5c7f77",
   "metadata": {},
   "outputs": [
    {
     "data": {
      "text/plain": [
       "84"
      ]
     },
     "execution_count": 162,
     "metadata": {},
     "output_type": "execute_result"
    }
   ],
   "source": [
    "len(data[data['Cylinders'] == '6'])"
   ]
  },
  {
   "cell_type": "markdown",
   "id": "a908b272",
   "metadata": {},
   "source": [
    "#### Q5. Using the variable `data`, find how many cars with 6 cylinders were originated from the US."
   ]
  },
  {
   "cell_type": "code",
   "execution_count": 163,
   "id": "e338965a",
   "metadata": {},
   "outputs": [
    {
     "data": {
      "text/plain": [
       "74"
      ]
     },
     "execution_count": 163,
     "metadata": {},
     "output_type": "execute_result"
    }
   ],
   "source": [
    "len(data[(data['Cylinders'] == '6' ) & (data['Origin'] == 'US')])"
   ]
  },
  {
   "cell_type": "markdown",
   "id": "76b5f6c9",
   "metadata": {},
   "source": [
    "#### Q6. Using the variable `data`, display cars with 6 cylinders, from the US, with weigth less than 3000."
   ]
  },
  {
   "cell_type": "code",
   "execution_count": 164,
   "id": "e62ce7ba",
   "metadata": {},
   "outputs": [
    {
     "data": {
      "text/html": [
       "<div>\n",
       "<style scoped>\n",
       "    .dataframe tbody tr th:only-of-type {\n",
       "        vertical-align: middle;\n",
       "    }\n",
       "\n",
       "    .dataframe tbody tr th {\n",
       "        vertical-align: top;\n",
       "    }\n",
       "\n",
       "    .dataframe thead th {\n",
       "        text-align: right;\n",
       "    }\n",
       "</style>\n",
       "<table border=\"1\" class=\"dataframe\">\n",
       "  <thead>\n",
       "    <tr style=\"text-align: right;\">\n",
       "      <th></th>\n",
       "      <th>Car</th>\n",
       "      <th>MPG</th>\n",
       "      <th>Cylinders</th>\n",
       "      <th>Displacement</th>\n",
       "      <th>Horsepower</th>\n",
       "      <th>Weight</th>\n",
       "      <th>Acceleration</th>\n",
       "      <th>Model</th>\n",
       "      <th>Origin</th>\n",
       "    </tr>\n",
       "  </thead>\n",
       "  <tbody>\n",
       "    <tr>\n",
       "      <th>22</th>\n",
       "      <td>Plymouth Duster</td>\n",
       "      <td>22.0</td>\n",
       "      <td>6</td>\n",
       "      <td>198.0</td>\n",
       "      <td>95.00</td>\n",
       "      <td>2833.</td>\n",
       "      <td>15.5</td>\n",
       "      <td>70</td>\n",
       "      <td>US</td>\n",
       "    </tr>\n",
       "    <tr>\n",
       "      <th>23</th>\n",
       "      <td>AMC Hornet</td>\n",
       "      <td>18.0</td>\n",
       "      <td>6</td>\n",
       "      <td>199.0</td>\n",
       "      <td>97.00</td>\n",
       "      <td>2774.</td>\n",
       "      <td>15.5</td>\n",
       "      <td>70</td>\n",
       "      <td>US</td>\n",
       "    </tr>\n",
       "    <tr>\n",
       "      <th>24</th>\n",
       "      <td>Ford Maverick</td>\n",
       "      <td>21.0</td>\n",
       "      <td>6</td>\n",
       "      <td>200.0</td>\n",
       "      <td>85.00</td>\n",
       "      <td>2587.</td>\n",
       "      <td>16.0</td>\n",
       "      <td>70</td>\n",
       "      <td>US</td>\n",
       "    </tr>\n",
       "    <tr>\n",
       "      <th>31</th>\n",
       "      <td>AMC Gremlin</td>\n",
       "      <td>21.0</td>\n",
       "      <td>6</td>\n",
       "      <td>199.0</td>\n",
       "      <td>90.00</td>\n",
       "      <td>2648.</td>\n",
       "      <td>15.0</td>\n",
       "      <td>70</td>\n",
       "      <td>US</td>\n",
       "    </tr>\n",
       "    <tr>\n",
       "      <th>41</th>\n",
       "      <td>AMC Gremlin</td>\n",
       "      <td>19.0</td>\n",
       "      <td>6</td>\n",
       "      <td>232.0</td>\n",
       "      <td>100.0</td>\n",
       "      <td>2634.</td>\n",
       "      <td>13.0</td>\n",
       "      <td>71</td>\n",
       "      <td>US</td>\n",
       "    </tr>\n",
       "    <tr>\n",
       "      <th>53</th>\n",
       "      <td>AMC Hornet Sportabout (sw)</td>\n",
       "      <td>18.0</td>\n",
       "      <td>6</td>\n",
       "      <td>258.0</td>\n",
       "      <td>110.0</td>\n",
       "      <td>2962.</td>\n",
       "      <td>13.5</td>\n",
       "      <td>71</td>\n",
       "      <td>US</td>\n",
       "    </tr>\n",
       "    <tr>\n",
       "      <th>107</th>\n",
       "      <td>AMC Hornet</td>\n",
       "      <td>18.0</td>\n",
       "      <td>6</td>\n",
       "      <td>232.0</td>\n",
       "      <td>100.0</td>\n",
       "      <td>2945.</td>\n",
       "      <td>16.0</td>\n",
       "      <td>73</td>\n",
       "      <td>US</td>\n",
       "    </tr>\n",
       "    <tr>\n",
       "      <th>109</th>\n",
       "      <td>Plymouth Duster</td>\n",
       "      <td>23.0</td>\n",
       "      <td>6</td>\n",
       "      <td>198.0</td>\n",
       "      <td>95.00</td>\n",
       "      <td>2904.</td>\n",
       "      <td>16.0</td>\n",
       "      <td>73</td>\n",
       "      <td>US</td>\n",
       "    </tr>\n",
       "    <tr>\n",
       "      <th>115</th>\n",
       "      <td>AMC Gremlin</td>\n",
       "      <td>18.0</td>\n",
       "      <td>6</td>\n",
       "      <td>232.0</td>\n",
       "      <td>100.0</td>\n",
       "      <td>2789.</td>\n",
       "      <td>15.0</td>\n",
       "      <td>73</td>\n",
       "      <td>US</td>\n",
       "    </tr>\n",
       "    <tr>\n",
       "      <th>121</th>\n",
       "      <td>Mercury Capri v6</td>\n",
       "      <td>21.0</td>\n",
       "      <td>6</td>\n",
       "      <td>155.0</td>\n",
       "      <td>107.0</td>\n",
       "      <td>2472.</td>\n",
       "      <td>14.0</td>\n",
       "      <td>73</td>\n",
       "      <td>US</td>\n",
       "    </tr>\n",
       "    <tr>\n",
       "      <th>134</th>\n",
       "      <td>Ford Maverick</td>\n",
       "      <td>21.0</td>\n",
       "      <td>6</td>\n",
       "      <td>200.0</td>\n",
       "      <td>0</td>\n",
       "      <td>2875.</td>\n",
       "      <td>17.0</td>\n",
       "      <td>74</td>\n",
       "      <td>US</td>\n",
       "    </tr>\n",
       "    <tr>\n",
       "      <th>135</th>\n",
       "      <td>AMC Hornet</td>\n",
       "      <td>19.0</td>\n",
       "      <td>6</td>\n",
       "      <td>232.0</td>\n",
       "      <td>100.0</td>\n",
       "      <td>2901.</td>\n",
       "      <td>16.0</td>\n",
       "      <td>74</td>\n",
       "      <td>US</td>\n",
       "    </tr>\n",
       "    <tr>\n",
       "      <th>177</th>\n",
       "      <td>AMC Gremlin</td>\n",
       "      <td>20.0</td>\n",
       "      <td>6</td>\n",
       "      <td>232.0</td>\n",
       "      <td>100.0</td>\n",
       "      <td>2914.</td>\n",
       "      <td>16.0</td>\n",
       "      <td>75</td>\n",
       "      <td>US</td>\n",
       "    </tr>\n",
       "    <tr>\n",
       "      <th>182</th>\n",
       "      <td>Ford Pinto</td>\n",
       "      <td>18.0</td>\n",
       "      <td>6</td>\n",
       "      <td>171.0</td>\n",
       "      <td>97.00</td>\n",
       "      <td>2984.</td>\n",
       "      <td>14.5</td>\n",
       "      <td>75</td>\n",
       "      <td>US</td>\n",
       "    </tr>\n",
       "    <tr>\n",
       "      <th>262</th>\n",
       "      <td>Ford Fairmont (auto)</td>\n",
       "      <td>20.2</td>\n",
       "      <td>6</td>\n",
       "      <td>200.0</td>\n",
       "      <td>85.00</td>\n",
       "      <td>2965.</td>\n",
       "      <td>15.8</td>\n",
       "      <td>78</td>\n",
       "      <td>US</td>\n",
       "    </tr>\n",
       "    <tr>\n",
       "      <th>289</th>\n",
       "      <td>Mercury Zephyr 6</td>\n",
       "      <td>19.8</td>\n",
       "      <td>6</td>\n",
       "      <td>200.0</td>\n",
       "      <td>85.00</td>\n",
       "      <td>2990.</td>\n",
       "      <td>18.2</td>\n",
       "      <td>79</td>\n",
       "      <td>US</td>\n",
       "    </tr>\n",
       "    <tr>\n",
       "      <th>314</th>\n",
       "      <td>Chevrolet Citation</td>\n",
       "      <td>28.8</td>\n",
       "      <td>6</td>\n",
       "      <td>173.0</td>\n",
       "      <td>115.0</td>\n",
       "      <td>2595.</td>\n",
       "      <td>11.3</td>\n",
       "      <td>79</td>\n",
       "      <td>US</td>\n",
       "    </tr>\n",
       "    <tr>\n",
       "      <th>315</th>\n",
       "      <td>Oldsmobile Omega Brougham</td>\n",
       "      <td>26.8</td>\n",
       "      <td>6</td>\n",
       "      <td>173.0</td>\n",
       "      <td>115.0</td>\n",
       "      <td>2700.</td>\n",
       "      <td>12.9</td>\n",
       "      <td>79</td>\n",
       "      <td>US</td>\n",
       "    </tr>\n",
       "    <tr>\n",
       "      <th>349</th>\n",
       "      <td>Chevrolet Citation</td>\n",
       "      <td>23.5</td>\n",
       "      <td>6</td>\n",
       "      <td>173.0</td>\n",
       "      <td>110.0</td>\n",
       "      <td>2725.</td>\n",
       "      <td>12.6</td>\n",
       "      <td>81</td>\n",
       "      <td>US</td>\n",
       "    </tr>\n",
       "    <tr>\n",
       "      <th>395</th>\n",
       "      <td>Buick Century Limited</td>\n",
       "      <td>25.0</td>\n",
       "      <td>6</td>\n",
       "      <td>181.0</td>\n",
       "      <td>110.0</td>\n",
       "      <td>2945.</td>\n",
       "      <td>16.4</td>\n",
       "      <td>82</td>\n",
       "      <td>US</td>\n",
       "    </tr>\n",
       "    <tr>\n",
       "      <th>398</th>\n",
       "      <td>Ford Grenada l</td>\n",
       "      <td>22.0</td>\n",
       "      <td>6</td>\n",
       "      <td>232.0</td>\n",
       "      <td>112.0</td>\n",
       "      <td>2835</td>\n",
       "      <td>14.7</td>\n",
       "      <td>82</td>\n",
       "      <td>US</td>\n",
       "    </tr>\n",
       "  </tbody>\n",
       "</table>\n",
       "</div>"
      ],
      "text/plain": [
       "                            Car   MPG Cylinders Displacement Horsepower  \\\n",
       "22              Plymouth Duster  22.0         6        198.0      95.00   \n",
       "23                   AMC Hornet  18.0         6        199.0      97.00   \n",
       "24                Ford Maverick  21.0         6        200.0      85.00   \n",
       "31                  AMC Gremlin  21.0         6        199.0      90.00   \n",
       "41                  AMC Gremlin  19.0         6        232.0      100.0   \n",
       "53   AMC Hornet Sportabout (sw)  18.0         6        258.0      110.0   \n",
       "107                  AMC Hornet  18.0         6        232.0      100.0   \n",
       "109             Plymouth Duster  23.0         6        198.0      95.00   \n",
       "115                 AMC Gremlin  18.0         6        232.0      100.0   \n",
       "121            Mercury Capri v6  21.0         6        155.0      107.0   \n",
       "134               Ford Maverick  21.0         6        200.0          0   \n",
       "135                  AMC Hornet  19.0         6        232.0      100.0   \n",
       "177                 AMC Gremlin  20.0         6        232.0      100.0   \n",
       "182                  Ford Pinto  18.0         6        171.0      97.00   \n",
       "262        Ford Fairmont (auto)  20.2         6        200.0      85.00   \n",
       "289            Mercury Zephyr 6  19.8         6        200.0      85.00   \n",
       "314          Chevrolet Citation  28.8         6        173.0      115.0   \n",
       "315   Oldsmobile Omega Brougham  26.8         6        173.0      115.0   \n",
       "349          Chevrolet Citation  23.5         6        173.0      110.0   \n",
       "395       Buick Century Limited  25.0         6        181.0      110.0   \n",
       "398              Ford Grenada l  22.0         6        232.0      112.0   \n",
       "\n",
       "    Weight Acceleration Model Origin  \n",
       "22   2833.         15.5    70     US  \n",
       "23   2774.         15.5    70     US  \n",
       "24   2587.         16.0    70     US  \n",
       "31   2648.         15.0    70     US  \n",
       "41   2634.         13.0    71     US  \n",
       "53   2962.         13.5    71     US  \n",
       "107  2945.         16.0    73     US  \n",
       "109  2904.         16.0    73     US  \n",
       "115  2789.         15.0    73     US  \n",
       "121  2472.         14.0    73     US  \n",
       "134  2875.         17.0    74     US  \n",
       "135  2901.         16.0    74     US  \n",
       "177  2914.         16.0    75     US  \n",
       "182  2984.         14.5    75     US  \n",
       "262  2965.         15.8    78     US  \n",
       "289  2990.         18.2    79     US  \n",
       "314  2595.         11.3    79     US  \n",
       "315  2700.         12.9    79     US  \n",
       "349  2725.         12.6    81     US  \n",
       "395  2945.         16.4    82     US  \n",
       "398   2835         14.7    82     US  "
      ]
     },
     "execution_count": 164,
     "metadata": {},
     "output_type": "execute_result"
    }
   ],
   "source": [
    "data[(data['Cylinders'] == '6' ) & (data['Origin'] == 'US') & (pd.to_numeric(data['Weight']) < 3000)]"
   ]
  },
  {
   "cell_type": "markdown",
   "id": "8a66caf0",
   "metadata": {},
   "source": [
    "## Data Visualization\n",
    "We can use `matplotlib` for visualization. It plots on to a set of Axes which are associated with a Figure. It will auto-plot onto the current set of Axes or create a new figure/set of default axes. This can be done by using `matplotlib.pyplot` package, which are usually called as `plt`. A subsequent `plt` calls will edit the same set of default-created aces. In addition, after the initial plot, `plt.gca()` will get the current set of axes. \n",
    "\n",
    "**Import packages.**"
   ]
  },
  {
   "cell_type": "code",
   "execution_count": 165,
   "id": "e2ea44fa",
   "metadata": {},
   "outputs": [],
   "source": [
    "import matplotlib.pyplot as plt"
   ]
  },
  {
   "cell_type": "markdown",
   "id": "ee0413fb",
   "metadata": {},
   "source": [
    "We are going to look at some sample plots."
   ]
  },
  {
   "cell_type": "code",
   "execution_count": 166,
   "id": "c0696548",
   "metadata": {},
   "outputs": [
    {
     "data": {
      "image/png": "[encoded data removed]",
      "text/plain": [
       "<Figure size 640x480 with 1 Axes>"
      ]
     },
     "metadata": {},
     "output_type": "display_data"
    }
   ],
   "source": [
    "# Plot using plt\n",
    "arr = np.arange(25)\n",
    "plt.plot(arr)\n",
    "plt.xlabel(\"Index\")\n",
    "plt.ylabel(\"Number\")\n",
    "plt.title(\"Sample Plot\")\n",
    "plt.show()"
   ]
  },
  {
   "cell_type": "code",
   "execution_count": 167,
   "id": "3f6a05ea",
   "metadata": {},
   "outputs": [
    {
     "data": {
      "image/png": "[encoded data removed]",
      "text/plain": [
       "<Figure size 640x480 with 1 Axes>"
      ]
     },
     "metadata": {},
     "output_type": "display_data"
    }
   ],
   "source": [
    "# Plot using axes\n",
    "plt.plot(arr)\n",
    "axes = plt.gca()\n",
    "axes.set_ylabel(\"Index (Axes)\")\n",
    "axes.set_xlabel(\"Number (Axes)\")\n",
    "axes.set_title(\"Sample Plot (Axes)\")\n",
    "\n",
    "plt.show()"
   ]
  },
  {
   "cell_type": "markdown",
   "id": "a69eca4f",
   "metadata": {},
   "source": [
    "---"
   ]
  },
  {
   "cell_type": "code",
   "execution_count": 168,
   "id": "7339e77b",
   "metadata": {},
   "outputs": [
    {
     "data": {
      "text/html": [
       "<div>\n",
       "<style scoped>\n",
       "    .dataframe tbody tr th:only-of-type {\n",
       "        vertical-align: middle;\n",
       "    }\n",
       "\n",
       "    .dataframe tbody tr th {\n",
       "        vertical-align: top;\n",
       "    }\n",
       "\n",
       "    .dataframe thead th {\n",
       "        text-align: right;\n",
       "    }\n",
       "</style>\n",
       "<table border=\"1\" class=\"dataframe\">\n",
       "  <thead>\n",
       "    <tr style=\"text-align: right;\">\n",
       "      <th></th>\n",
       "      <th>Car</th>\n",
       "      <th>MPG</th>\n",
       "      <th>Cylinders</th>\n",
       "      <th>Displacement</th>\n",
       "      <th>Horsepower</th>\n",
       "      <th>Weight</th>\n",
       "      <th>Acceleration</th>\n",
       "      <th>Model</th>\n",
       "      <th>Origin</th>\n",
       "    </tr>\n",
       "  </thead>\n",
       "  <tbody>\n",
       "    <tr>\n",
       "      <th>1</th>\n",
       "      <td>Chevrolet Chevelle Malibu</td>\n",
       "      <td>18.0</td>\n",
       "      <td>8</td>\n",
       "      <td>307.0</td>\n",
       "      <td>130.0</td>\n",
       "      <td>3504.</td>\n",
       "      <td>12.0</td>\n",
       "      <td>70</td>\n",
       "      <td>US</td>\n",
       "    </tr>\n",
       "    <tr>\n",
       "      <th>2</th>\n",
       "      <td>Buick Skylark 320</td>\n",
       "      <td>15.0</td>\n",
       "      <td>8</td>\n",
       "      <td>350.0</td>\n",
       "      <td>165.0</td>\n",
       "      <td>3693.</td>\n",
       "      <td>11.5</td>\n",
       "      <td>70</td>\n",
       "      <td>US</td>\n",
       "    </tr>\n",
       "    <tr>\n",
       "      <th>3</th>\n",
       "      <td>Plymouth Satellite</td>\n",
       "      <td>18.0</td>\n",
       "      <td>8</td>\n",
       "      <td>318.0</td>\n",
       "      <td>150.0</td>\n",
       "      <td>3436.</td>\n",
       "      <td>11.0</td>\n",
       "      <td>70</td>\n",
       "      <td>US</td>\n",
       "    </tr>\n",
       "    <tr>\n",
       "      <th>4</th>\n",
       "      <td>AMC Rebel SST</td>\n",
       "      <td>16.0</td>\n",
       "      <td>8</td>\n",
       "      <td>304.0</td>\n",
       "      <td>150.0</td>\n",
       "      <td>3433.</td>\n",
       "      <td>12.0</td>\n",
       "      <td>70</td>\n",
       "      <td>US</td>\n",
       "    </tr>\n",
       "    <tr>\n",
       "      <th>5</th>\n",
       "      <td>Ford Torino</td>\n",
       "      <td>17.0</td>\n",
       "      <td>8</td>\n",
       "      <td>302.0</td>\n",
       "      <td>140.0</td>\n",
       "      <td>3449.</td>\n",
       "      <td>10.5</td>\n",
       "      <td>70</td>\n",
       "      <td>US</td>\n",
       "    </tr>\n",
       "    <tr>\n",
       "      <th>...</th>\n",
       "      <td>...</td>\n",
       "      <td>...</td>\n",
       "      <td>...</td>\n",
       "      <td>...</td>\n",
       "      <td>...</td>\n",
       "      <td>...</td>\n",
       "      <td>...</td>\n",
       "      <td>...</td>\n",
       "      <td>...</td>\n",
       "    </tr>\n",
       "    <tr>\n",
       "      <th>402</th>\n",
       "      <td>Ford Mustang GL</td>\n",
       "      <td>27.0</td>\n",
       "      <td>4</td>\n",
       "      <td>140.0</td>\n",
       "      <td>86.00</td>\n",
       "      <td>2790.</td>\n",
       "      <td>15.6</td>\n",
       "      <td>82</td>\n",
       "      <td>US</td>\n",
       "    </tr>\n",
       "    <tr>\n",
       "      <th>403</th>\n",
       "      <td>Volkswagen Pickup</td>\n",
       "      <td>44.0</td>\n",
       "      <td>4</td>\n",
       "      <td>97.00</td>\n",
       "      <td>52.00</td>\n",
       "      <td>2130.</td>\n",
       "      <td>24.6</td>\n",
       "      <td>82</td>\n",
       "      <td>Europe</td>\n",
       "    </tr>\n",
       "    <tr>\n",
       "      <th>404</th>\n",
       "      <td>Dodge Rampage</td>\n",
       "      <td>32.0</td>\n",
       "      <td>4</td>\n",
       "      <td>135.0</td>\n",
       "      <td>84.00</td>\n",
       "      <td>2295.</td>\n",
       "      <td>11.6</td>\n",
       "      <td>82</td>\n",
       "      <td>US</td>\n",
       "    </tr>\n",
       "    <tr>\n",
       "      <th>405</th>\n",
       "      <td>Ford Ranger</td>\n",
       "      <td>28.0</td>\n",
       "      <td>4</td>\n",
       "      <td>120.0</td>\n",
       "      <td>79.00</td>\n",
       "      <td>2625.</td>\n",
       "      <td>18.6</td>\n",
       "      <td>82</td>\n",
       "      <td>US</td>\n",
       "    </tr>\n",
       "    <tr>\n",
       "      <th>406</th>\n",
       "      <td>Chevy S-10</td>\n",
       "      <td>31.0</td>\n",
       "      <td>4</td>\n",
       "      <td>119.0</td>\n",
       "      <td>82.00</td>\n",
       "      <td>2720.</td>\n",
       "      <td>19.4</td>\n",
       "      <td>82</td>\n",
       "      <td>US</td>\n",
       "    </tr>\n",
       "  </tbody>\n",
       "</table>\n",
       "<p>406 rows × 9 columns</p>\n",
       "</div>"
      ],
      "text/plain": [
       "                           Car   MPG Cylinders Displacement Horsepower Weight  \\\n",
       "1    Chevrolet Chevelle Malibu  18.0         8        307.0      130.0  3504.   \n",
       "2            Buick Skylark 320  15.0         8        350.0      165.0  3693.   \n",
       "3           Plymouth Satellite  18.0         8        318.0      150.0  3436.   \n",
       "4                AMC Rebel SST  16.0         8        304.0      150.0  3433.   \n",
       "5                  Ford Torino  17.0         8        302.0      140.0  3449.   \n",
       "..                         ...   ...       ...          ...        ...    ...   \n",
       "402            Ford Mustang GL  27.0         4        140.0      86.00  2790.   \n",
       "403          Volkswagen Pickup  44.0         4        97.00      52.00  2130.   \n",
       "404              Dodge Rampage  32.0         4        135.0      84.00  2295.   \n",
       "405                Ford Ranger  28.0         4        120.0      79.00  2625.   \n",
       "406                 Chevy S-10  31.0         4        119.0      82.00  2720.   \n",
       "\n",
       "    Acceleration Model  Origin  \n",
       "1           12.0    70      US  \n",
       "2           11.5    70      US  \n",
       "3           11.0    70      US  \n",
       "4           12.0    70      US  \n",
       "5           10.5    70      US  \n",
       "..           ...   ...     ...  \n",
       "402         15.6    82      US  \n",
       "403         24.6    82  Europe  \n",
       "404         11.6    82      US  \n",
       "405         18.6    82      US  \n",
       "406         19.4    82      US  \n",
       "\n",
       "[406 rows x 9 columns]"
      ]
     },
     "execution_count": 168,
     "metadata": {},
     "output_type": "execute_result"
    }
   ],
   "source": [
    "car_data = pd.read_csv('./cars.csv', delimiter = ';').tail(-1)\n",
    "car_data"
   ]
  },
  {
   "cell_type": "markdown",
   "id": "7e7a81f5",
   "metadata": {},
   "source": [
    "**Q1. Create a graph with the `Horsepower` on the x-axis and `Acceleration` on the y-axis.** *(If there are too many ticks, cast your data as `float` using `np.asarray()`. )* "
   ]
  },
  {
   "cell_type": "code",
   "execution_count": 169,
   "id": "d5bc65be",
   "metadata": {},
   "outputs": [
    {
     "data": {
      "image/png": "[encoded data removed]",
      "text/plain": [
       "<Figure size 640x480 with 1 Axes>"
      ]
     },
     "metadata": {},
     "output_type": "display_data"
    }
   ],
   "source": [
    "arr = np.arange(25)\n",
    "horsepower = np.asarray(data['Horsepower'], 'float')\n",
    "acceleration = np.asarray(data['Acceleration'], 'float')\n",
    "plt.scatter(horsepower,acceleration)\n",
    "plt.xlabel(\"Horsepower\")\n",
    "plt.ylabel(\"Acceleration\")\n",
    "plt.title(\"Horsepower and acceleration\")\n",
    "plt.show()"
   ]
  },
  {
   "cell_type": "markdown",
   "id": "22e775ff",
   "metadata": {},
   "source": [
    "Your graph should look something like this: \n",
    "\n",
    "![Q1 Image](https://cdn.discordapp.com/attachments/564268123545403394/1070609023419826206/image.png)"
   ]
  },
  {
   "cell_type": "markdown",
   "id": "066341a1",
   "metadata": {},
   "source": [
    "**Q2.Create a histogram based on the values of the column `Cylinders`.**"
   ]
  },
  {
   "cell_type": "code",
   "execution_count": 170,
   "id": "e762e2b3",
   "metadata": {},
   "outputs": [
    {
     "data": {
      "text/plain": [
       "(array([  4., 207.,   3.,  84.,   0., 108.]),\n",
       " array([3., 4., 5., 6., 7., 8., 9.]),\n",
       " <BarContainer object of 6 artists>)"
      ]
     },
     "execution_count": 170,
     "metadata": {},
     "output_type": "execute_result"
    },
    {
     "data": {
      "image/png": "[encoded data removed]",
      "text/plain": [
       "<Figure size 640x480 with 1 Axes>"
      ]
     },
     "metadata": {},
     "output_type": "display_data"
    }
   ],
   "source": [
    "cylinder_count = pd.to_numeric(data['Cylinders']).array\n",
    "plt.hist(cylinder_count, np.arange(3, 10))"
   ]
  },
  {
   "attachments": {
    "image.png": {
     "image/png": "[encoded data removed]"
    }
   },
   "cell_type": "markdown",
   "id": "b11806a8",
   "metadata": {},
   "source": [
    "Again, your graph should look something like this:\n",
    "\n",
    "![Q2 Image](attachment:image.png)"
   ]
  },
  {
   "cell_type": "markdown",
   "id": "a008a4ea",
   "metadata": {},
   "source": [
    "**Q3. Create a graph with the `Weight` on the x-axis and `Acceleration` on the y-axis.**"
   ]
  },
  {
   "cell_type": "code",
   "execution_count": 171,
   "id": "1ac1fa00",
   "metadata": {},
   "outputs": [
    {
     "data": {
      "image/png": "[encoded data removed]",
      "text/plain": [
       "<Figure size 640x480 with 1 Axes>"
      ]
     },
     "metadata": {},
     "output_type": "display_data"
    }
   ],
   "source": [
    "\n",
    "weight = np.asarray(data['Weight'], 'float')\n",
    "acceleration = np.asarray(data['Acceleration'], 'float')\n",
    "plt.scatter(weight,acceleration)\n",
    "plt.xlabel(\"Weight\")\n",
    "plt.ylabel(\"Acceleration\")\n",
    "plt.title(\"Weight and acceleration\")\n",
    "plt.show()"
   ]
  },
  {
   "cell_type": "markdown",
   "id": "0a3733e4",
   "metadata": {},
   "source": [
    "Your graph should look like this: \n",
    "\n",
    "![Q3 Image](https://cdn.discordapp.com/attachments/564268123545403394/1070609271747772446/image.png)"
   ]
  },
  {
   "cell_type": "markdown",
   "id": "492b044e",
   "metadata": {},
   "source": [
    "## Using YFinance Data"
   ]
  },
  {
   "cell_type": "markdown",
   "id": "3832402c",
   "metadata": {},
   "source": [
    "Now, let's explore stock data using `yfinance`."
   ]
  },
  {
   "cell_type": "markdown",
   "id": "cfdf55b2",
   "metadata": {},
   "source": [
    "**Q1.Import `yfinance` and get the S&P 500, APPL, MSFT, and GOOG data. The granularity should be minute level data for the past 30 days.**"
   ]
  },
  {
   "cell_type": "code",
   "execution_count": 172,
   "id": "a4db141a",
   "metadata": {},
   "outputs": [],
   "source": [
    "import yfinance as yf\n",
    "spy = yf.Ticker(\"SPY\")\n",
    "aapl = yf.Ticker(\"AAPL\")\n",
    "msft = yf.Ticker(\"MSFT\")\n",
    "goog = yf.Ticker(\"GOOG\")\n"
   ]
  },
  {
   "cell_type": "markdown",
   "id": "5a31a951",
   "metadata": {},
   "source": [
    "**Q2.Now, try plotting the price of S&P 500 for the past 30 days.**"
   ]
  },
  {
   "cell_type": "code",
   "execution_count": 173,
   "id": "ff20c95f",
   "metadata": {},
   "outputs": [
    {
     "data": {
      "text/plain": [
       "[<matplotlib.lines.Line2D at 0x7f92113b4d30>]"
      ]
     },
     "execution_count": 173,
     "metadata": {},
     "output_type": "execute_result"
    },
    {
     "data": {
      "image/png": "[encoded data removed]",
      "text/plain": [
       "<Figure size 640x480 with 1 Axes>"
      ]
     },
     "metadata": {},
     "output_type": "display_data"
    }
   ],
   "source": [
    "spyhist = spy.history(period=\"1mo\", interval = \"30m\")\n",
    "plt.plot(spyhist[\"Open\"])"
   ]
  },
  {
   "cell_type": "markdown",
   "id": "a602cc37",
   "metadata": {},
   "source": [
    "Note down any observations in this cell:"
   ]
  },
  {
   "cell_type": "markdown",
   "id": "ca0a9898",
   "metadata": {},
   "source": [
    "The SPY has generally trended upward  in the past 30 days"
   ]
  },
  {
   "cell_type": "markdown",
   "id": "bb145d07",
   "metadata": {},
   "source": [
    "**Q3.Now, plot the returns (a.k.a percent change) of S&P 500 for the past 30 days.**"
   ]
  },
  {
   "cell_type": "code",
   "execution_count": 174,
   "id": "651bb083",
   "metadata": {},
   "outputs": [
    {
     "data": {
      "text/plain": [
       "[<matplotlib.lines.Line2D at 0x7f92111e78b0>]"
      ]
     },
     "execution_count": 174,
     "metadata": {},
     "output_type": "execute_result"
    },
    {
     "data": {
      "image/png": "[encoded data removed]",
      "text/plain": [
       "<Figure size 640x480 with 1 Axes>"
      ]
     },
     "metadata": {},
     "output_type": "display_data"
    }
   ],
   "source": [
    "spyhistdaily = spy.history(period=\"1mo\", interval = \"1d\")\n",
    "daily_returns = 100 * (spyhistdaily[\"Close\"] - spyhistdaily[\"Open\"]) / spyhistdaily[\"Open\"]\n",
    "plt.plot(daily_returns)"
   ]
  },
  {
   "cell_type": "markdown",
   "id": "5d9c46e4",
   "metadata": {},
   "source": [
    "**Q4.Plot the returns of APPL, MSFT, GOOG as well.**"
   ]
  },
  {
   "cell_type": "code",
   "execution_count": 175,
   "id": "3c5dffe0",
   "metadata": {},
   "outputs": [
    {
     "data": {
      "text/plain": [
       "<matplotlib.legend.Legend at 0x7f922450cf10>"
      ]
     },
     "execution_count": 175,
     "metadata": {},
     "output_type": "execute_result"
    },
    {
     "data": {
      "image/png": "[encoded data removed]",
      "text/plain": [
       "<Figure size 640x480 with 1 Axes>"
      ]
     },
     "metadata": {},
     "output_type": "display_data"
    }
   ],
   "source": [
    "aapl_hist = aapl.history(period=\"1mo\", interval = \"1d\")\n",
    "msft_hist = msft.history(period=\"1mo\", interval = \"1d\")\n",
    "goog_hist = goog.history(period=\"1mo\", interval = \"1d\")\n",
    "\n",
    "\n",
    "def get_returns(df):\n",
    "    return 100 * (df[\"Close\"] - df[\"Open\"]) / df[\"Open\"]\n",
    "\n",
    "aapl_returns = get_returns(aapl_hist)\n",
    "goog_returns = get_returns(goog_hist)\n",
    "msft_returns = get_returns(msft_hist)\n",
    "\n",
    "plt.plot(aapl_returns)\n",
    "plt.plot(goog_returns)\n",
    "plt.plot(msft_returns)\n",
    "plt.legend([\"aapl\", \"goog\", \"msft\"])"
   ]
  },
  {
   "cell_type": "markdown",
   "id": "b345c086",
   "metadata": {},
   "source": [
    "**Q5.Run seaborn.pairplot on the returns of SPY, APPL, MSFT, and GOOG. (You have to import the package)**"
   ]
  },
  {
   "cell_type": "code",
   "execution_count": 176,
   "id": "f2e035e6",
   "metadata": {},
   "outputs": [
    {
     "data": {
      "text/plain": [
       "<seaborn.axisgrid.PairGrid at 0x7f9211599250>"
      ]
     },
     "execution_count": 176,
     "metadata": {},
     "output_type": "execute_result"
    },
    {
     "data": {
      "image/png": "[encoded data removed]",
      "text/plain": [
       "<Figure size 1000x1000 with 20 Axes>"
      ]
     },
     "metadata": {},
     "output_type": "display_data"
    }
   ],
   "source": [
    "import seaborn as sns\n",
    "\n",
    "\n",
    "returns = pd.DataFrame({\"spy\": daily_returns, \"aapl\": aapl_returns, \"msft\": msft_returns, \"goog\": goog_returns})\n",
    "sns.pairplot(data = returns)"
   ]
  },
  {
   "cell_type": "markdown",
   "id": "02c7cdfb",
   "metadata": {},
   "source": [
    "**Q6.Print the correlations across those 4.**"
   ]
  },
  {
   "cell_type": "code",
   "execution_count": 177,
   "id": "e40699c1",
   "metadata": {},
   "outputs": [
    {
     "name": "stdout",
     "output_type": "stream",
     "text": [
      "aapl_to_msft  0.540823515198303\n",
      "aapl_to_goog  0.7423574873693866\n",
      "aapl_to_spy  0.6976801691739276\n",
      "msft_to_goog  0.6952954087095728\n",
      "msft_to_spy  0.8665438971749094\n",
      "goog_to_spy  0.7584911171077477\n"
     ]
    }
   ],
   "source": [
    "\n",
    "\n",
    "print(\"aapl_to_msft \", returns[\"aapl\"].corr(returns[\"msft\"]))\n",
    "print(\"aapl_to_goog \" , returns[\"aapl\"].corr(returns[\"goog\"]))\n",
    "print(\"aapl_to_spy \" , returns[\"aapl\"].corr(returns[\"spy\"]))\n",
    "\n",
    "print(\"msft_to_goog \" , returns[\"msft\"].corr(returns[\"goog\"]))\n",
    "print(\"msft_to_spy \" , returns[\"msft\"].corr(returns[\"spy\"]))\n",
    "\n",
    "print(\"goog_to_spy \" ,returns[\"goog\"].corr(returns[\"spy\"]))\n"
   ]
  },
  {
   "cell_type": "markdown",
   "id": "746be415",
   "metadata": {},
   "source": [
    "Now we have learned a lot of stocks are very correlated to the market at large!"
   ]
  },
  {
   "cell_type": "markdown",
   "id": "c61800fa",
   "metadata": {},
   "source": [
    "## Submission"
   ]
  },
  {
   "cell_type": "markdown",
   "id": "2c0560ec",
   "metadata": {},
   "source": [
    "Submit your code to github under the \"[Coding HW] Homework 0\" Assignment. This homework is due February 12th by Midnight."
   ]
  }
 ],
 "metadata": {
  "kernelspec": {
   "display_name": "Python 3 (ipykernel)",
   "language": "python",
   "name": "python3"
  },
  "language_info": {
   "codemirror_mode": {
    "name": "ipython",
    "version": 3
   },
   "file_extension": ".py",
   "mimetype": "text/x-python",
   "name": "python",
   "nbconvert_exporter": "python",
   "pygments_lexer": "ipython3",
   "version": "3.9.7"
  },
  "vscode": {
   "interpreter": {
    "hash": "31f2aee4e71d21fbe5cf8b01ff0e069b9275f58929596ceb00d14d90e3e16cd6"
   }
  }
 },
 "nbformat": 4,
 "nbformat_minor": 5
}
